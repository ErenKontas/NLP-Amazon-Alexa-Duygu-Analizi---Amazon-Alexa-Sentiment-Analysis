{
 "cells": [
  {
   "cell_type": "markdown",
   "id": "dcf4238a-4823-4ccc-9cf8-2f903a7f3d04",
   "metadata": {
    "id": "dcf4238a-4823-4ccc-9cf8-2f903a7f3d04"
   },
   "source": [
    "# <font color=#025dfa> Amazon Alexa Duygu Analizi - Amazon Alexa Sentiment Analysis"
   ]
  },
  {
   "cell_type": "markdown",
   "id": "2c4e3139-ca68-4a52-a790-1095ed8b1104",
   "metadata": {
    "id": "2c4e3139-ca68-4a52-a790-1095ed8b1104"
   },
   "source": [
    "TR = Her yorum satırı kendisini üstündeki koda aittir. İlk olarak Türkçe, son olarak İngilizce yazıldı.\n",
    "\n",
    "EN = Each comment line belongs to the code above it. It was first written in Turkish and lastly in English.\n",
    "\n",
    "TR = Bu proje, Amazon Alexa kullanıcılarının geri bildirimlerini analiz ederek, bu geri bildirimlerdeki duygusal eğilimleri otomatik olarak sınıflandırmayı amaçlamaktadır. Doğal dil işleme teknikleriyle, kullanıcı yorumlarının pozitif, negatif veya nötr duygular içerip içermediği tespit edilecektir.\n",
    "\n",
    "EN = This project aims to automatically classify the emotional tendencies in feedback by analyzing Amazon Alexa users’ feedback. Using natural language processing techniques, it will be determined whether user comments contain positive, negative or neutral emotions.\n",
    "\n",
    "Kaynak/Source = https://thecleverprogrammer.com/2021/06/12/amazon-alexa-reviews-sentiment-analysis-using-python/"
   ]
  },
  {
   "cell_type": "code",
   "execution_count": 1,
   "id": "xGkLD3AL_k-G",
   "metadata": {
    "colab": {
     "base_uri": "https://localhost:8080/"
    },
    "id": "xGkLD3AL_k-G",
    "outputId": "20fc2f5c-0b44-495e-8b1f-cd60854cec5e"
   },
   "outputs": [],
   "source": [
    "#pip install pycaret"
   ]
  },
  {
   "cell_type": "code",
   "execution_count": 2,
   "id": "aM2vdJ0lBHFV",
   "metadata": {
    "colab": {
     "base_uri": "https://localhost:8080/"
    },
    "id": "aM2vdJ0lBHFV",
    "outputId": "45749b09-5f2f-4320-ecb8-2bc9308c971a"
   },
   "outputs": [],
   "source": [
    "#pip install textblob"
   ]
  },
  {
   "cell_type": "code",
   "execution_count": 3,
   "id": "hEJYYCrFBG6t",
   "metadata": {
    "colab": {
     "base_uri": "https://localhost:8080/"
    },
    "id": "hEJYYCrFBG6t",
    "outputId": "839625c3-9597-4bef-e9c5-62e7a0a5b4da"
   },
   "outputs": [],
   "source": [
    "#pip install langdetect"
   ]
  },
  {
   "cell_type": "code",
   "execution_count": 4,
   "id": "apocI0CrBG18",
   "metadata": {
    "colab": {
     "base_uri": "https://localhost:8080/"
    },
    "id": "apocI0CrBG18",
    "outputId": "4076de01-181b-456b-acbf-634abd7b6ad0"
   },
   "outputs": [],
   "source": [
    "#pip install googletrans==4.0.0-rc1"
   ]
  },
  {
   "cell_type": "code",
   "execution_count": 5,
   "id": "tJM3xGDqAxtd",
   "metadata": {
    "colab": {
     "base_uri": "https://localhost:8080/"
    },
    "id": "tJM3xGDqAxtd",
    "outputId": "68ff6352-4132-4e6e-898a-1cdf16eebfeb"
   },
   "outputs": [],
   "source": [
    "#pip install autocorrect"
   ]
  },
  {
   "cell_type": "code",
   "execution_count": 6,
   "id": "m_KYcvFWHaTx",
   "metadata": {
    "colab": {
     "base_uri": "https://localhost:8080/"
    },
    "id": "m_KYcvFWHaTx",
    "outputId": "ad7c51e3-31c9-465f-c696-5a880577b950"
   },
   "outputs": [],
   "source": [
    "#pip install neattext"
   ]
  },
  {
   "cell_type": "code",
   "execution_count": 1,
   "id": "f147a09e-be7b-4b3f-a56e-b18ff1e68d09",
   "metadata": {
    "id": "f147a09e-be7b-4b3f-a56e-b18ff1e68d09"
   },
   "outputs": [],
   "source": [
    "import pandas as pd\n",
    "import seaborn as sns\n",
    "import nltk\n",
    "import warnings\n",
    "warnings.filterwarnings('ignore')\n",
    "import re\n",
    "import time\n",
    "import datetime\n",
    "import matplotlib.pyplot as plt\n",
    "import neattext.functions as nfx\n",
    "import numpy as np\n",
    "\n",
    "from sklearn.feature_extraction.text import CountVectorizer\n",
    "from autocorrect import spell\n",
    "from textblob import TextBlob\n",
    "from langdetect import detect\n",
    "from googletrans import Translator\n",
    "from PIL import Image\n",
    "from wordcloud import WordCloud, STOPWORDS\n",
    "from sklearn.model_selection import train_test_split\n",
    "from tensorflow.keras.models import Sequential\n",
    "from tensorflow.keras.layers import Dense, Dropout,Flatten, LeakyReLU\n",
    "from tensorflow.keras.callbacks import EarlyStopping\n",
    "from sklearn.preprocessing import MinMaxScaler\n",
    "from sklearn.metrics import accuracy_score, confusion_matrix, classification_report\n",
    "from pycaret.classification import *\n",
    "from sklearn.feature_extraction.text import TfidfVectorizer"
   ]
  },
  {
   "cell_type": "code",
   "execution_count": 8,
   "id": "5b944b60-890b-4d59-87f7-0a66249711ed",
   "metadata": {
    "id": "5b944b60-890b-4d59-87f7-0a66249711ed"
   },
   "outputs": [],
   "source": [
    "pd.set_option(\"display.max_columns\",None)\n",
    "# TR = En fazla kaç sütun olduğunu gösteriyor.\n",
    "# EN = It shows the maximum number of columns."
   ]
  },
  {
   "cell_type": "code",
   "execution_count": 9,
   "id": "cdba9ac6-e4b2-42e4-bf0a-701c4dc8abab",
   "metadata": {
    "id": "cdba9ac6-e4b2-42e4-bf0a-701c4dc8abab"
   },
   "outputs": [],
   "source": [
    "df=pd.read_csv(\"https://raw.githubusercontent.com/amankharwal/Website-data/master/amazon_alexa.tsv\", delimiter='\\t')"
   ]
  },
  {
   "cell_type": "markdown",
   "id": "f942f1aa-ad2b-44f3-8570-2e0c055eb213",
   "metadata": {
    "id": "f942f1aa-ad2b-44f3-8570-2e0c055eb213"
   },
   "source": [
    "## <font color=#FFD700> EDA Keşif Amaçlı Veri Analizi - EDA - Exploratory Data Analysis"
   ]
  },
  {
   "cell_type": "code",
   "execution_count": 10,
   "id": "4ca22645-d868-4b56-9a02-d7a0123e6cb4",
   "metadata": {
    "colab": {
     "base_uri": "https://localhost:8080/",
     "height": 206
    },
    "id": "4ca22645-d868-4b56-9a02-d7a0123e6cb4",
    "outputId": "66ab4c29-c82a-4598-f527-7579e70e61b6"
   },
   "outputs": [
    {
     "data": {
      "application/vnd.google.colaboratory.intrinsic+json": {
       "summary": "{\n  \"name\": \"df\",\n  \"rows\": 3150,\n  \"fields\": [\n    {\n      \"column\": \"rating\",\n      \"properties\": {\n        \"dtype\": \"number\",\n        \"std\": 1,\n        \"min\": 1,\n        \"max\": 5,\n        \"num_unique_values\": 5,\n        \"samples\": [\n          4,\n          1,\n          3\n        ],\n        \"semantic_type\": \"\",\n        \"description\": \"\"\n      }\n    },\n    {\n      \"column\": \"date\",\n      \"properties\": {\n        \"dtype\": \"object\",\n        \"num_unique_values\": 77,\n        \"samples\": [\n          \"27-Jul-18\",\n          \"26-Jun-18\",\n          \"21-Jul-18\"\n        ],\n        \"semantic_type\": \"\",\n        \"description\": \"\"\n      }\n    },\n    {\n      \"column\": \"variation\",\n      \"properties\": {\n        \"dtype\": \"category\",\n        \"num_unique_values\": 16,\n        \"samples\": [\n          \"Charcoal Fabric \",\n          \"Walnut Finish \",\n          \"Black\"\n        ],\n        \"semantic_type\": \"\",\n        \"description\": \"\"\n      }\n    },\n    {\n      \"column\": \"verified_reviews\",\n      \"properties\": {\n        \"dtype\": \"string\",\n        \"num_unique_values\": 2300,\n        \"samples\": [\n          \"Fun tech toy\",\n          \"Love the fire stick. Alexa works well on it too. Would recommend.\",\n          \"The best part of this product is you can control the thermostat and lights for your house.  There isn\\u2019t anything I dislike.\"\n        ],\n        \"semantic_type\": \"\",\n        \"description\": \"\"\n      }\n    },\n    {\n      \"column\": \"feedback\",\n      \"properties\": {\n        \"dtype\": \"number\",\n        \"std\": 0,\n        \"min\": 0,\n        \"max\": 1,\n        \"num_unique_values\": 2,\n        \"samples\": [\n          0,\n          1\n        ],\n        \"semantic_type\": \"\",\n        \"description\": \"\"\n      }\n    }\n  ]\n}",
       "type": "dataframe",
       "variable_name": "df"
      },
      "text/html": [
       "\n",
       "  <div id=\"df-844e1b2b-2277-48ae-88c6-4ed9870a1f6f\" class=\"colab-df-container\">\n",
       "    <div>\n",
       "<style scoped>\n",
       "    .dataframe tbody tr th:only-of-type {\n",
       "        vertical-align: middle;\n",
       "    }\n",
       "\n",
       "    .dataframe tbody tr th {\n",
       "        vertical-align: top;\n",
       "    }\n",
       "\n",
       "    .dataframe thead th {\n",
       "        text-align: right;\n",
       "    }\n",
       "</style>\n",
       "<table border=\"1\" class=\"dataframe\">\n",
       "  <thead>\n",
       "    <tr style=\"text-align: right;\">\n",
       "      <th></th>\n",
       "      <th>rating</th>\n",
       "      <th>date</th>\n",
       "      <th>variation</th>\n",
       "      <th>verified_reviews</th>\n",
       "      <th>feedback</th>\n",
       "    </tr>\n",
       "  </thead>\n",
       "  <tbody>\n",
       "    <tr>\n",
       "      <th>0</th>\n",
       "      <td>5</td>\n",
       "      <td>31-Jul-18</td>\n",
       "      <td>Charcoal Fabric</td>\n",
       "      <td>Love my Echo!</td>\n",
       "      <td>1</td>\n",
       "    </tr>\n",
       "    <tr>\n",
       "      <th>1</th>\n",
       "      <td>5</td>\n",
       "      <td>31-Jul-18</td>\n",
       "      <td>Charcoal Fabric</td>\n",
       "      <td>Loved it!</td>\n",
       "      <td>1</td>\n",
       "    </tr>\n",
       "    <tr>\n",
       "      <th>2</th>\n",
       "      <td>4</td>\n",
       "      <td>31-Jul-18</td>\n",
       "      <td>Walnut Finish</td>\n",
       "      <td>Sometimes while playing a game, you can answer...</td>\n",
       "      <td>1</td>\n",
       "    </tr>\n",
       "    <tr>\n",
       "      <th>3</th>\n",
       "      <td>5</td>\n",
       "      <td>31-Jul-18</td>\n",
       "      <td>Charcoal Fabric</td>\n",
       "      <td>I have had a lot of fun with this thing. My 4 ...</td>\n",
       "      <td>1</td>\n",
       "    </tr>\n",
       "    <tr>\n",
       "      <th>4</th>\n",
       "      <td>5</td>\n",
       "      <td>31-Jul-18</td>\n",
       "      <td>Charcoal Fabric</td>\n",
       "      <td>Music</td>\n",
       "      <td>1</td>\n",
       "    </tr>\n",
       "  </tbody>\n",
       "</table>\n",
       "</div>\n",
       "    <div class=\"colab-df-buttons\">\n",
       "\n",
       "  <div class=\"colab-df-container\">\n",
       "    <button class=\"colab-df-convert\" onclick=\"convertToInteractive('df-844e1b2b-2277-48ae-88c6-4ed9870a1f6f')\"\n",
       "            title=\"Convert this dataframe to an interactive table.\"\n",
       "            style=\"display:none;\">\n",
       "\n",
       "  <svg xmlns=\"http://www.w3.org/2000/svg\" height=\"24px\" viewBox=\"0 -960 960 960\">\n",
       "    <path d=\"M120-120v-720h720v720H120Zm60-500h600v-160H180v160Zm220 220h160v-160H400v160Zm0 220h160v-160H400v160ZM180-400h160v-160H180v160Zm440 0h160v-160H620v160ZM180-180h160v-160H180v160Zm440 0h160v-160H620v160Z\"/>\n",
       "  </svg>\n",
       "    </button>\n",
       "\n",
       "  <style>\n",
       "    .colab-df-container {\n",
       "      display:flex;\n",
       "      gap: 12px;\n",
       "    }\n",
       "\n",
       "    .colab-df-convert {\n",
       "      background-color: #E8F0FE;\n",
       "      border: none;\n",
       "      border-radius: 50%;\n",
       "      cursor: pointer;\n",
       "      display: none;\n",
       "      fill: #1967D2;\n",
       "      height: 32px;\n",
       "      padding: 0 0 0 0;\n",
       "      width: 32px;\n",
       "    }\n",
       "\n",
       "    .colab-df-convert:hover {\n",
       "      background-color: #E2EBFA;\n",
       "      box-shadow: 0px 1px 2px rgba(60, 64, 67, 0.3), 0px 1px 3px 1px rgba(60, 64, 67, 0.15);\n",
       "      fill: #174EA6;\n",
       "    }\n",
       "\n",
       "    .colab-df-buttons div {\n",
       "      margin-bottom: 4px;\n",
       "    }\n",
       "\n",
       "    [theme=dark] .colab-df-convert {\n",
       "      background-color: #3B4455;\n",
       "      fill: #D2E3FC;\n",
       "    }\n",
       "\n",
       "    [theme=dark] .colab-df-convert:hover {\n",
       "      background-color: #434B5C;\n",
       "      box-shadow: 0px 1px 3px 1px rgba(0, 0, 0, 0.15);\n",
       "      filter: drop-shadow(0px 1px 2px rgba(0, 0, 0, 0.3));\n",
       "      fill: #FFFFFF;\n",
       "    }\n",
       "  </style>\n",
       "\n",
       "    <script>\n",
       "      const buttonEl =\n",
       "        document.querySelector('#df-844e1b2b-2277-48ae-88c6-4ed9870a1f6f button.colab-df-convert');\n",
       "      buttonEl.style.display =\n",
       "        google.colab.kernel.accessAllowed ? 'block' : 'none';\n",
       "\n",
       "      async function convertToInteractive(key) {\n",
       "        const element = document.querySelector('#df-844e1b2b-2277-48ae-88c6-4ed9870a1f6f');\n",
       "        const dataTable =\n",
       "          await google.colab.kernel.invokeFunction('convertToInteractive',\n",
       "                                                    [key], {});\n",
       "        if (!dataTable) return;\n",
       "\n",
       "        const docLinkHtml = 'Like what you see? Visit the ' +\n",
       "          '<a target=\"_blank\" href=https://colab.research.google.com/notebooks/data_table.ipynb>data table notebook</a>'\n",
       "          + ' to learn more about interactive tables.';\n",
       "        element.innerHTML = '';\n",
       "        dataTable['output_type'] = 'display_data';\n",
       "        await google.colab.output.renderOutput(dataTable, element);\n",
       "        const docLink = document.createElement('div');\n",
       "        docLink.innerHTML = docLinkHtml;\n",
       "        element.appendChild(docLink);\n",
       "      }\n",
       "    </script>\n",
       "  </div>\n",
       "\n",
       "\n",
       "<div id=\"df-2318593a-48b4-49d0-b6e3-c40f476505d4\">\n",
       "  <button class=\"colab-df-quickchart\" onclick=\"quickchart('df-2318593a-48b4-49d0-b6e3-c40f476505d4')\"\n",
       "            title=\"Suggest charts\"\n",
       "            style=\"display:none;\">\n",
       "\n",
       "<svg xmlns=\"http://www.w3.org/2000/svg\" height=\"24px\"viewBox=\"0 0 24 24\"\n",
       "     width=\"24px\">\n",
       "    <g>\n",
       "        <path d=\"M19 3H5c-1.1 0-2 .9-2 2v14c0 1.1.9 2 2 2h14c1.1 0 2-.9 2-2V5c0-1.1-.9-2-2-2zM9 17H7v-7h2v7zm4 0h-2V7h2v10zm4 0h-2v-4h2v4z\"/>\n",
       "    </g>\n",
       "</svg>\n",
       "  </button>\n",
       "\n",
       "<style>\n",
       "  .colab-df-quickchart {\n",
       "      --bg-color: #E8F0FE;\n",
       "      --fill-color: #1967D2;\n",
       "      --hover-bg-color: #E2EBFA;\n",
       "      --hover-fill-color: #174EA6;\n",
       "      --disabled-fill-color: #AAA;\n",
       "      --disabled-bg-color: #DDD;\n",
       "  }\n",
       "\n",
       "  [theme=dark] .colab-df-quickchart {\n",
       "      --bg-color: #3B4455;\n",
       "      --fill-color: #D2E3FC;\n",
       "      --hover-bg-color: #434B5C;\n",
       "      --hover-fill-color: #FFFFFF;\n",
       "      --disabled-bg-color: #3B4455;\n",
       "      --disabled-fill-color: #666;\n",
       "  }\n",
       "\n",
       "  .colab-df-quickchart {\n",
       "    background-color: var(--bg-color);\n",
       "    border: none;\n",
       "    border-radius: 50%;\n",
       "    cursor: pointer;\n",
       "    display: none;\n",
       "    fill: var(--fill-color);\n",
       "    height: 32px;\n",
       "    padding: 0;\n",
       "    width: 32px;\n",
       "  }\n",
       "\n",
       "  .colab-df-quickchart:hover {\n",
       "    background-color: var(--hover-bg-color);\n",
       "    box-shadow: 0 1px 2px rgba(60, 64, 67, 0.3), 0 1px 3px 1px rgba(60, 64, 67, 0.15);\n",
       "    fill: var(--button-hover-fill-color);\n",
       "  }\n",
       "\n",
       "  .colab-df-quickchart-complete:disabled,\n",
       "  .colab-df-quickchart-complete:disabled:hover {\n",
       "    background-color: var(--disabled-bg-color);\n",
       "    fill: var(--disabled-fill-color);\n",
       "    box-shadow: none;\n",
       "  }\n",
       "\n",
       "  .colab-df-spinner {\n",
       "    border: 2px solid var(--fill-color);\n",
       "    border-color: transparent;\n",
       "    border-bottom-color: var(--fill-color);\n",
       "    animation:\n",
       "      spin 1s steps(1) infinite;\n",
       "  }\n",
       "\n",
       "  @keyframes spin {\n",
       "    0% {\n",
       "      border-color: transparent;\n",
       "      border-bottom-color: var(--fill-color);\n",
       "      border-left-color: var(--fill-color);\n",
       "    }\n",
       "    20% {\n",
       "      border-color: transparent;\n",
       "      border-left-color: var(--fill-color);\n",
       "      border-top-color: var(--fill-color);\n",
       "    }\n",
       "    30% {\n",
       "      border-color: transparent;\n",
       "      border-left-color: var(--fill-color);\n",
       "      border-top-color: var(--fill-color);\n",
       "      border-right-color: var(--fill-color);\n",
       "    }\n",
       "    40% {\n",
       "      border-color: transparent;\n",
       "      border-right-color: var(--fill-color);\n",
       "      border-top-color: var(--fill-color);\n",
       "    }\n",
       "    60% {\n",
       "      border-color: transparent;\n",
       "      border-right-color: var(--fill-color);\n",
       "    }\n",
       "    80% {\n",
       "      border-color: transparent;\n",
       "      border-right-color: var(--fill-color);\n",
       "      border-bottom-color: var(--fill-color);\n",
       "    }\n",
       "    90% {\n",
       "      border-color: transparent;\n",
       "      border-bottom-color: var(--fill-color);\n",
       "    }\n",
       "  }\n",
       "</style>\n",
       "\n",
       "  <script>\n",
       "    async function quickchart(key) {\n",
       "      const quickchartButtonEl =\n",
       "        document.querySelector('#' + key + ' button');\n",
       "      quickchartButtonEl.disabled = true;  // To prevent multiple clicks.\n",
       "      quickchartButtonEl.classList.add('colab-df-spinner');\n",
       "      try {\n",
       "        const charts = await google.colab.kernel.invokeFunction(\n",
       "            'suggestCharts', [key], {});\n",
       "      } catch (error) {\n",
       "        console.error('Error during call to suggestCharts:', error);\n",
       "      }\n",
       "      quickchartButtonEl.classList.remove('colab-df-spinner');\n",
       "      quickchartButtonEl.classList.add('colab-df-quickchart-complete');\n",
       "    }\n",
       "    (() => {\n",
       "      let quickchartButtonEl =\n",
       "        document.querySelector('#df-2318593a-48b4-49d0-b6e3-c40f476505d4 button');\n",
       "      quickchartButtonEl.style.display =\n",
       "        google.colab.kernel.accessAllowed ? 'block' : 'none';\n",
       "    })();\n",
       "  </script>\n",
       "</div>\n",
       "\n",
       "    </div>\n",
       "  </div>\n"
      ],
      "text/plain": [
       "   rating       date         variation  \\\n",
       "0       5  31-Jul-18  Charcoal Fabric    \n",
       "1       5  31-Jul-18  Charcoal Fabric    \n",
       "2       4  31-Jul-18    Walnut Finish    \n",
       "3       5  31-Jul-18  Charcoal Fabric    \n",
       "4       5  31-Jul-18  Charcoal Fabric    \n",
       "\n",
       "                                    verified_reviews  feedback  \n",
       "0                                      Love my Echo!         1  \n",
       "1                                          Loved it!         1  \n",
       "2  Sometimes while playing a game, you can answer...         1  \n",
       "3  I have had a lot of fun with this thing. My 4 ...         1  \n",
       "4                                              Music         1  "
      ]
     },
     "execution_count": 10,
     "metadata": {},
     "output_type": "execute_result"
    }
   ],
   "source": [
    "df.head()"
   ]
  },
  {
   "cell_type": "code",
   "execution_count": 11,
   "id": "a24623d4-7014-4b1b-89e2-b396243633ed",
   "metadata": {
    "colab": {
     "base_uri": "https://localhost:8080/",
     "height": 206
    },
    "id": "a24623d4-7014-4b1b-89e2-b396243633ed",
    "outputId": "a4adefef-0e24-4997-b91d-dab41647119d"
   },
   "outputs": [
    {
     "data": {
      "application/vnd.google.colaboratory.intrinsic+json": {
       "repr_error": "0",
       "type": "dataframe"
      },
      "text/html": [
       "\n",
       "  <div id=\"df-43e5cf84-b1ea-43da-a89d-ffcd3e0a541c\" class=\"colab-df-container\">\n",
       "    <div>\n",
       "<style scoped>\n",
       "    .dataframe tbody tr th:only-of-type {\n",
       "        vertical-align: middle;\n",
       "    }\n",
       "\n",
       "    .dataframe tbody tr th {\n",
       "        vertical-align: top;\n",
       "    }\n",
       "\n",
       "    .dataframe thead th {\n",
       "        text-align: right;\n",
       "    }\n",
       "</style>\n",
       "<table border=\"1\" class=\"dataframe\">\n",
       "  <thead>\n",
       "    <tr style=\"text-align: right;\">\n",
       "      <th></th>\n",
       "      <th>rating</th>\n",
       "      <th>date</th>\n",
       "      <th>variation</th>\n",
       "      <th>verified_reviews</th>\n",
       "      <th>feedback</th>\n",
       "    </tr>\n",
       "  </thead>\n",
       "  <tbody>\n",
       "    <tr>\n",
       "      <th>315</th>\n",
       "      <td>5</td>\n",
       "      <td>29-Jul-18</td>\n",
       "      <td>Charcoal Fabric</td>\n",
       "      <td>We got this as a wedding gift and haven’t disc...</td>\n",
       "      <td>1</td>\n",
       "    </tr>\n",
       "    <tr>\n",
       "      <th>3114</th>\n",
       "      <td>3</td>\n",
       "      <td>30-Jul-18</td>\n",
       "      <td>Black  Dot</td>\n",
       "      <td></td>\n",
       "      <td>1</td>\n",
       "    </tr>\n",
       "    <tr>\n",
       "      <th>2983</th>\n",
       "      <td>5</td>\n",
       "      <td>30-Jul-18</td>\n",
       "      <td>White  Dot</td>\n",
       "      <td>I love my echo dot. Has many features and work...</td>\n",
       "      <td>1</td>\n",
       "    </tr>\n",
       "    <tr>\n",
       "      <th>1038</th>\n",
       "      <td>5</td>\n",
       "      <td>28-Jul-18</td>\n",
       "      <td>Charcoal Fabric</td>\n",
       "      <td>I’m still learning how to use the Echo, but so...</td>\n",
       "      <td>1</td>\n",
       "    </tr>\n",
       "    <tr>\n",
       "      <th>1364</th>\n",
       "      <td>2</td>\n",
       "      <td>19-Jul-18</td>\n",
       "      <td>Black  Spot</td>\n",
       "      <td>It's not as good as Siri, BUT it still has som...</td>\n",
       "      <td>0</td>\n",
       "    </tr>\n",
       "  </tbody>\n",
       "</table>\n",
       "</div>\n",
       "    <div class=\"colab-df-buttons\">\n",
       "\n",
       "  <div class=\"colab-df-container\">\n",
       "    <button class=\"colab-df-convert\" onclick=\"convertToInteractive('df-43e5cf84-b1ea-43da-a89d-ffcd3e0a541c')\"\n",
       "            title=\"Convert this dataframe to an interactive table.\"\n",
       "            style=\"display:none;\">\n",
       "\n",
       "  <svg xmlns=\"http://www.w3.org/2000/svg\" height=\"24px\" viewBox=\"0 -960 960 960\">\n",
       "    <path d=\"M120-120v-720h720v720H120Zm60-500h600v-160H180v160Zm220 220h160v-160H400v160Zm0 220h160v-160H400v160ZM180-400h160v-160H180v160Zm440 0h160v-160H620v160ZM180-180h160v-160H180v160Zm440 0h160v-160H620v160Z\"/>\n",
       "  </svg>\n",
       "    </button>\n",
       "\n",
       "  <style>\n",
       "    .colab-df-container {\n",
       "      display:flex;\n",
       "      gap: 12px;\n",
       "    }\n",
       "\n",
       "    .colab-df-convert {\n",
       "      background-color: #E8F0FE;\n",
       "      border: none;\n",
       "      border-radius: 50%;\n",
       "      cursor: pointer;\n",
       "      display: none;\n",
       "      fill: #1967D2;\n",
       "      height: 32px;\n",
       "      padding: 0 0 0 0;\n",
       "      width: 32px;\n",
       "    }\n",
       "\n",
       "    .colab-df-convert:hover {\n",
       "      background-color: #E2EBFA;\n",
       "      box-shadow: 0px 1px 2px rgba(60, 64, 67, 0.3), 0px 1px 3px 1px rgba(60, 64, 67, 0.15);\n",
       "      fill: #174EA6;\n",
       "    }\n",
       "\n",
       "    .colab-df-buttons div {\n",
       "      margin-bottom: 4px;\n",
       "    }\n",
       "\n",
       "    [theme=dark] .colab-df-convert {\n",
       "      background-color: #3B4455;\n",
       "      fill: #D2E3FC;\n",
       "    }\n",
       "\n",
       "    [theme=dark] .colab-df-convert:hover {\n",
       "      background-color: #434B5C;\n",
       "      box-shadow: 0px 1px 3px 1px rgba(0, 0, 0, 0.15);\n",
       "      filter: drop-shadow(0px 1px 2px rgba(0, 0, 0, 0.3));\n",
       "      fill: #FFFFFF;\n",
       "    }\n",
       "  </style>\n",
       "\n",
       "    <script>\n",
       "      const buttonEl =\n",
       "        document.querySelector('#df-43e5cf84-b1ea-43da-a89d-ffcd3e0a541c button.colab-df-convert');\n",
       "      buttonEl.style.display =\n",
       "        google.colab.kernel.accessAllowed ? 'block' : 'none';\n",
       "\n",
       "      async function convertToInteractive(key) {\n",
       "        const element = document.querySelector('#df-43e5cf84-b1ea-43da-a89d-ffcd3e0a541c');\n",
       "        const dataTable =\n",
       "          await google.colab.kernel.invokeFunction('convertToInteractive',\n",
       "                                                    [key], {});\n",
       "        if (!dataTable) return;\n",
       "\n",
       "        const docLinkHtml = 'Like what you see? Visit the ' +\n",
       "          '<a target=\"_blank\" href=https://colab.research.google.com/notebooks/data_table.ipynb>data table notebook</a>'\n",
       "          + ' to learn more about interactive tables.';\n",
       "        element.innerHTML = '';\n",
       "        dataTable['output_type'] = 'display_data';\n",
       "        await google.colab.output.renderOutput(dataTable, element);\n",
       "        const docLink = document.createElement('div');\n",
       "        docLink.innerHTML = docLinkHtml;\n",
       "        element.appendChild(docLink);\n",
       "      }\n",
       "    </script>\n",
       "  </div>\n",
       "\n",
       "\n",
       "<div id=\"df-710480d7-19fa-40a6-a3fe-18453b5622b7\">\n",
       "  <button class=\"colab-df-quickchart\" onclick=\"quickchart('df-710480d7-19fa-40a6-a3fe-18453b5622b7')\"\n",
       "            title=\"Suggest charts\"\n",
       "            style=\"display:none;\">\n",
       "\n",
       "<svg xmlns=\"http://www.w3.org/2000/svg\" height=\"24px\"viewBox=\"0 0 24 24\"\n",
       "     width=\"24px\">\n",
       "    <g>\n",
       "        <path d=\"M19 3H5c-1.1 0-2 .9-2 2v14c0 1.1.9 2 2 2h14c1.1 0 2-.9 2-2V5c0-1.1-.9-2-2-2zM9 17H7v-7h2v7zm4 0h-2V7h2v10zm4 0h-2v-4h2v4z\"/>\n",
       "    </g>\n",
       "</svg>\n",
       "  </button>\n",
       "\n",
       "<style>\n",
       "  .colab-df-quickchart {\n",
       "      --bg-color: #E8F0FE;\n",
       "      --fill-color: #1967D2;\n",
       "      --hover-bg-color: #E2EBFA;\n",
       "      --hover-fill-color: #174EA6;\n",
       "      --disabled-fill-color: #AAA;\n",
       "      --disabled-bg-color: #DDD;\n",
       "  }\n",
       "\n",
       "  [theme=dark] .colab-df-quickchart {\n",
       "      --bg-color: #3B4455;\n",
       "      --fill-color: #D2E3FC;\n",
       "      --hover-bg-color: #434B5C;\n",
       "      --hover-fill-color: #FFFFFF;\n",
       "      --disabled-bg-color: #3B4455;\n",
       "      --disabled-fill-color: #666;\n",
       "  }\n",
       "\n",
       "  .colab-df-quickchart {\n",
       "    background-color: var(--bg-color);\n",
       "    border: none;\n",
       "    border-radius: 50%;\n",
       "    cursor: pointer;\n",
       "    display: none;\n",
       "    fill: var(--fill-color);\n",
       "    height: 32px;\n",
       "    padding: 0;\n",
       "    width: 32px;\n",
       "  }\n",
       "\n",
       "  .colab-df-quickchart:hover {\n",
       "    background-color: var(--hover-bg-color);\n",
       "    box-shadow: 0 1px 2px rgba(60, 64, 67, 0.3), 0 1px 3px 1px rgba(60, 64, 67, 0.15);\n",
       "    fill: var(--button-hover-fill-color);\n",
       "  }\n",
       "\n",
       "  .colab-df-quickchart-complete:disabled,\n",
       "  .colab-df-quickchart-complete:disabled:hover {\n",
       "    background-color: var(--disabled-bg-color);\n",
       "    fill: var(--disabled-fill-color);\n",
       "    box-shadow: none;\n",
       "  }\n",
       "\n",
       "  .colab-df-spinner {\n",
       "    border: 2px solid var(--fill-color);\n",
       "    border-color: transparent;\n",
       "    border-bottom-color: var(--fill-color);\n",
       "    animation:\n",
       "      spin 1s steps(1) infinite;\n",
       "  }\n",
       "\n",
       "  @keyframes spin {\n",
       "    0% {\n",
       "      border-color: transparent;\n",
       "      border-bottom-color: var(--fill-color);\n",
       "      border-left-color: var(--fill-color);\n",
       "    }\n",
       "    20% {\n",
       "      border-color: transparent;\n",
       "      border-left-color: var(--fill-color);\n",
       "      border-top-color: var(--fill-color);\n",
       "    }\n",
       "    30% {\n",
       "      border-color: transparent;\n",
       "      border-left-color: var(--fill-color);\n",
       "      border-top-color: var(--fill-color);\n",
       "      border-right-color: var(--fill-color);\n",
       "    }\n",
       "    40% {\n",
       "      border-color: transparent;\n",
       "      border-right-color: var(--fill-color);\n",
       "      border-top-color: var(--fill-color);\n",
       "    }\n",
       "    60% {\n",
       "      border-color: transparent;\n",
       "      border-right-color: var(--fill-color);\n",
       "    }\n",
       "    80% {\n",
       "      border-color: transparent;\n",
       "      border-right-color: var(--fill-color);\n",
       "      border-bottom-color: var(--fill-color);\n",
       "    }\n",
       "    90% {\n",
       "      border-color: transparent;\n",
       "      border-bottom-color: var(--fill-color);\n",
       "    }\n",
       "  }\n",
       "</style>\n",
       "\n",
       "  <script>\n",
       "    async function quickchart(key) {\n",
       "      const quickchartButtonEl =\n",
       "        document.querySelector('#' + key + ' button');\n",
       "      quickchartButtonEl.disabled = true;  // To prevent multiple clicks.\n",
       "      quickchartButtonEl.classList.add('colab-df-spinner');\n",
       "      try {\n",
       "        const charts = await google.colab.kernel.invokeFunction(\n",
       "            'suggestCharts', [key], {});\n",
       "      } catch (error) {\n",
       "        console.error('Error during call to suggestCharts:', error);\n",
       "      }\n",
       "      quickchartButtonEl.classList.remove('colab-df-spinner');\n",
       "      quickchartButtonEl.classList.add('colab-df-quickchart-complete');\n",
       "    }\n",
       "    (() => {\n",
       "      let quickchartButtonEl =\n",
       "        document.querySelector('#df-710480d7-19fa-40a6-a3fe-18453b5622b7 button');\n",
       "      quickchartButtonEl.style.display =\n",
       "        google.colab.kernel.accessAllowed ? 'block' : 'none';\n",
       "    })();\n",
       "  </script>\n",
       "</div>\n",
       "\n",
       "    </div>\n",
       "  </div>\n"
      ],
      "text/plain": [
       "      rating       date         variation  \\\n",
       "315        5  29-Jul-18  Charcoal Fabric    \n",
       "3114       3  30-Jul-18        Black  Dot   \n",
       "2983       5  30-Jul-18        White  Dot   \n",
       "1038       5  28-Jul-18  Charcoal Fabric    \n",
       "1364       2  19-Jul-18       Black  Spot   \n",
       "\n",
       "                                       verified_reviews  feedback  \n",
       "315   We got this as a wedding gift and haven’t disc...         1  \n",
       "3114                                                            1  \n",
       "2983  I love my echo dot. Has many features and work...         1  \n",
       "1038  I’m still learning how to use the Echo, but so...         1  \n",
       "1364  It's not as good as Siri, BUT it still has som...         0  "
      ]
     },
     "execution_count": 11,
     "metadata": {},
     "output_type": "execute_result"
    }
   ],
   "source": [
    "df.sample(5)"
   ]
  },
  {
   "cell_type": "code",
   "execution_count": 12,
   "id": "60d1335e-7a0c-48de-bbba-5c397ba6c6d1",
   "metadata": {
    "colab": {
     "base_uri": "https://localhost:8080/",
     "height": 206
    },
    "id": "60d1335e-7a0c-48de-bbba-5c397ba6c6d1",
    "outputId": "837f6afe-2c5d-4094-cb8d-677bb8f7e9a5"
   },
   "outputs": [
    {
     "data": {
      "application/vnd.google.colaboratory.intrinsic+json": {
       "repr_error": "0",
       "type": "dataframe"
      },
      "text/html": [
       "\n",
       "  <div id=\"df-586ff354-76b5-4022-8456-aa7848864517\" class=\"colab-df-container\">\n",
       "    <div>\n",
       "<style scoped>\n",
       "    .dataframe tbody tr th:only-of-type {\n",
       "        vertical-align: middle;\n",
       "    }\n",
       "\n",
       "    .dataframe tbody tr th {\n",
       "        vertical-align: top;\n",
       "    }\n",
       "\n",
       "    .dataframe thead th {\n",
       "        text-align: right;\n",
       "    }\n",
       "</style>\n",
       "<table border=\"1\" class=\"dataframe\">\n",
       "  <thead>\n",
       "    <tr style=\"text-align: right;\">\n",
       "      <th></th>\n",
       "      <th>rating</th>\n",
       "      <th>date</th>\n",
       "      <th>variation</th>\n",
       "      <th>verified_reviews</th>\n",
       "      <th>feedback</th>\n",
       "    </tr>\n",
       "  </thead>\n",
       "  <tbody>\n",
       "    <tr>\n",
       "      <th>3145</th>\n",
       "      <td>5</td>\n",
       "      <td>30-Jul-18</td>\n",
       "      <td>Black  Dot</td>\n",
       "      <td>Perfect for kids, adults and everyone in betwe...</td>\n",
       "      <td>1</td>\n",
       "    </tr>\n",
       "    <tr>\n",
       "      <th>3146</th>\n",
       "      <td>5</td>\n",
       "      <td>30-Jul-18</td>\n",
       "      <td>Black  Dot</td>\n",
       "      <td>Listening to music, searching locations, check...</td>\n",
       "      <td>1</td>\n",
       "    </tr>\n",
       "    <tr>\n",
       "      <th>3147</th>\n",
       "      <td>5</td>\n",
       "      <td>30-Jul-18</td>\n",
       "      <td>Black  Dot</td>\n",
       "      <td>I do love these things, i have them running my...</td>\n",
       "      <td>1</td>\n",
       "    </tr>\n",
       "    <tr>\n",
       "      <th>3148</th>\n",
       "      <td>5</td>\n",
       "      <td>30-Jul-18</td>\n",
       "      <td>White  Dot</td>\n",
       "      <td>Only complaint I have is that the sound qualit...</td>\n",
       "      <td>1</td>\n",
       "    </tr>\n",
       "    <tr>\n",
       "      <th>3149</th>\n",
       "      <td>4</td>\n",
       "      <td>29-Jul-18</td>\n",
       "      <td>Black  Dot</td>\n",
       "      <td>Good</td>\n",
       "      <td>1</td>\n",
       "    </tr>\n",
       "  </tbody>\n",
       "</table>\n",
       "</div>\n",
       "    <div class=\"colab-df-buttons\">\n",
       "\n",
       "  <div class=\"colab-df-container\">\n",
       "    <button class=\"colab-df-convert\" onclick=\"convertToInteractive('df-586ff354-76b5-4022-8456-aa7848864517')\"\n",
       "            title=\"Convert this dataframe to an interactive table.\"\n",
       "            style=\"display:none;\">\n",
       "\n",
       "  <svg xmlns=\"http://www.w3.org/2000/svg\" height=\"24px\" viewBox=\"0 -960 960 960\">\n",
       "    <path d=\"M120-120v-720h720v720H120Zm60-500h600v-160H180v160Zm220 220h160v-160H400v160Zm0 220h160v-160H400v160ZM180-400h160v-160H180v160Zm440 0h160v-160H620v160ZM180-180h160v-160H180v160Zm440 0h160v-160H620v160Z\"/>\n",
       "  </svg>\n",
       "    </button>\n",
       "\n",
       "  <style>\n",
       "    .colab-df-container {\n",
       "      display:flex;\n",
       "      gap: 12px;\n",
       "    }\n",
       "\n",
       "    .colab-df-convert {\n",
       "      background-color: #E8F0FE;\n",
       "      border: none;\n",
       "      border-radius: 50%;\n",
       "      cursor: pointer;\n",
       "      display: none;\n",
       "      fill: #1967D2;\n",
       "      height: 32px;\n",
       "      padding: 0 0 0 0;\n",
       "      width: 32px;\n",
       "    }\n",
       "\n",
       "    .colab-df-convert:hover {\n",
       "      background-color: #E2EBFA;\n",
       "      box-shadow: 0px 1px 2px rgba(60, 64, 67, 0.3), 0px 1px 3px 1px rgba(60, 64, 67, 0.15);\n",
       "      fill: #174EA6;\n",
       "    }\n",
       "\n",
       "    .colab-df-buttons div {\n",
       "      margin-bottom: 4px;\n",
       "    }\n",
       "\n",
       "    [theme=dark] .colab-df-convert {\n",
       "      background-color: #3B4455;\n",
       "      fill: #D2E3FC;\n",
       "    }\n",
       "\n",
       "    [theme=dark] .colab-df-convert:hover {\n",
       "      background-color: #434B5C;\n",
       "      box-shadow: 0px 1px 3px 1px rgba(0, 0, 0, 0.15);\n",
       "      filter: drop-shadow(0px 1px 2px rgba(0, 0, 0, 0.3));\n",
       "      fill: #FFFFFF;\n",
       "    }\n",
       "  </style>\n",
       "\n",
       "    <script>\n",
       "      const buttonEl =\n",
       "        document.querySelector('#df-586ff354-76b5-4022-8456-aa7848864517 button.colab-df-convert');\n",
       "      buttonEl.style.display =\n",
       "        google.colab.kernel.accessAllowed ? 'block' : 'none';\n",
       "\n",
       "      async function convertToInteractive(key) {\n",
       "        const element = document.querySelector('#df-586ff354-76b5-4022-8456-aa7848864517');\n",
       "        const dataTable =\n",
       "          await google.colab.kernel.invokeFunction('convertToInteractive',\n",
       "                                                    [key], {});\n",
       "        if (!dataTable) return;\n",
       "\n",
       "        const docLinkHtml = 'Like what you see? Visit the ' +\n",
       "          '<a target=\"_blank\" href=https://colab.research.google.com/notebooks/data_table.ipynb>data table notebook</a>'\n",
       "          + ' to learn more about interactive tables.';\n",
       "        element.innerHTML = '';\n",
       "        dataTable['output_type'] = 'display_data';\n",
       "        await google.colab.output.renderOutput(dataTable, element);\n",
       "        const docLink = document.createElement('div');\n",
       "        docLink.innerHTML = docLinkHtml;\n",
       "        element.appendChild(docLink);\n",
       "      }\n",
       "    </script>\n",
       "  </div>\n",
       "\n",
       "\n",
       "<div id=\"df-a6b7e41d-a714-41a5-b0db-367758c5a7a3\">\n",
       "  <button class=\"colab-df-quickchart\" onclick=\"quickchart('df-a6b7e41d-a714-41a5-b0db-367758c5a7a3')\"\n",
       "            title=\"Suggest charts\"\n",
       "            style=\"display:none;\">\n",
       "\n",
       "<svg xmlns=\"http://www.w3.org/2000/svg\" height=\"24px\"viewBox=\"0 0 24 24\"\n",
       "     width=\"24px\">\n",
       "    <g>\n",
       "        <path d=\"M19 3H5c-1.1 0-2 .9-2 2v14c0 1.1.9 2 2 2h14c1.1 0 2-.9 2-2V5c0-1.1-.9-2-2-2zM9 17H7v-7h2v7zm4 0h-2V7h2v10zm4 0h-2v-4h2v4z\"/>\n",
       "    </g>\n",
       "</svg>\n",
       "  </button>\n",
       "\n",
       "<style>\n",
       "  .colab-df-quickchart {\n",
       "      --bg-color: #E8F0FE;\n",
       "      --fill-color: #1967D2;\n",
       "      --hover-bg-color: #E2EBFA;\n",
       "      --hover-fill-color: #174EA6;\n",
       "      --disabled-fill-color: #AAA;\n",
       "      --disabled-bg-color: #DDD;\n",
       "  }\n",
       "\n",
       "  [theme=dark] .colab-df-quickchart {\n",
       "      --bg-color: #3B4455;\n",
       "      --fill-color: #D2E3FC;\n",
       "      --hover-bg-color: #434B5C;\n",
       "      --hover-fill-color: #FFFFFF;\n",
       "      --disabled-bg-color: #3B4455;\n",
       "      --disabled-fill-color: #666;\n",
       "  }\n",
       "\n",
       "  .colab-df-quickchart {\n",
       "    background-color: var(--bg-color);\n",
       "    border: none;\n",
       "    border-radius: 50%;\n",
       "    cursor: pointer;\n",
       "    display: none;\n",
       "    fill: var(--fill-color);\n",
       "    height: 32px;\n",
       "    padding: 0;\n",
       "    width: 32px;\n",
       "  }\n",
       "\n",
       "  .colab-df-quickchart:hover {\n",
       "    background-color: var(--hover-bg-color);\n",
       "    box-shadow: 0 1px 2px rgba(60, 64, 67, 0.3), 0 1px 3px 1px rgba(60, 64, 67, 0.15);\n",
       "    fill: var(--button-hover-fill-color);\n",
       "  }\n",
       "\n",
       "  .colab-df-quickchart-complete:disabled,\n",
       "  .colab-df-quickchart-complete:disabled:hover {\n",
       "    background-color: var(--disabled-bg-color);\n",
       "    fill: var(--disabled-fill-color);\n",
       "    box-shadow: none;\n",
       "  }\n",
       "\n",
       "  .colab-df-spinner {\n",
       "    border: 2px solid var(--fill-color);\n",
       "    border-color: transparent;\n",
       "    border-bottom-color: var(--fill-color);\n",
       "    animation:\n",
       "      spin 1s steps(1) infinite;\n",
       "  }\n",
       "\n",
       "  @keyframes spin {\n",
       "    0% {\n",
       "      border-color: transparent;\n",
       "      border-bottom-color: var(--fill-color);\n",
       "      border-left-color: var(--fill-color);\n",
       "    }\n",
       "    20% {\n",
       "      border-color: transparent;\n",
       "      border-left-color: var(--fill-color);\n",
       "      border-top-color: var(--fill-color);\n",
       "    }\n",
       "    30% {\n",
       "      border-color: transparent;\n",
       "      border-left-color: var(--fill-color);\n",
       "      border-top-color: var(--fill-color);\n",
       "      border-right-color: var(--fill-color);\n",
       "    }\n",
       "    40% {\n",
       "      border-color: transparent;\n",
       "      border-right-color: var(--fill-color);\n",
       "      border-top-color: var(--fill-color);\n",
       "    }\n",
       "    60% {\n",
       "      border-color: transparent;\n",
       "      border-right-color: var(--fill-color);\n",
       "    }\n",
       "    80% {\n",
       "      border-color: transparent;\n",
       "      border-right-color: var(--fill-color);\n",
       "      border-bottom-color: var(--fill-color);\n",
       "    }\n",
       "    90% {\n",
       "      border-color: transparent;\n",
       "      border-bottom-color: var(--fill-color);\n",
       "    }\n",
       "  }\n",
       "</style>\n",
       "\n",
       "  <script>\n",
       "    async function quickchart(key) {\n",
       "      const quickchartButtonEl =\n",
       "        document.querySelector('#' + key + ' button');\n",
       "      quickchartButtonEl.disabled = true;  // To prevent multiple clicks.\n",
       "      quickchartButtonEl.classList.add('colab-df-spinner');\n",
       "      try {\n",
       "        const charts = await google.colab.kernel.invokeFunction(\n",
       "            'suggestCharts', [key], {});\n",
       "      } catch (error) {\n",
       "        console.error('Error during call to suggestCharts:', error);\n",
       "      }\n",
       "      quickchartButtonEl.classList.remove('colab-df-spinner');\n",
       "      quickchartButtonEl.classList.add('colab-df-quickchart-complete');\n",
       "    }\n",
       "    (() => {\n",
       "      let quickchartButtonEl =\n",
       "        document.querySelector('#df-a6b7e41d-a714-41a5-b0db-367758c5a7a3 button');\n",
       "      quickchartButtonEl.style.display =\n",
       "        google.colab.kernel.accessAllowed ? 'block' : 'none';\n",
       "    })();\n",
       "  </script>\n",
       "</div>\n",
       "\n",
       "    </div>\n",
       "  </div>\n"
      ],
      "text/plain": [
       "      rating       date   variation  \\\n",
       "3145       5  30-Jul-18  Black  Dot   \n",
       "3146       5  30-Jul-18  Black  Dot   \n",
       "3147       5  30-Jul-18  Black  Dot   \n",
       "3148       5  30-Jul-18  White  Dot   \n",
       "3149       4  29-Jul-18  Black  Dot   \n",
       "\n",
       "                                       verified_reviews  feedback  \n",
       "3145  Perfect for kids, adults and everyone in betwe...         1  \n",
       "3146  Listening to music, searching locations, check...         1  \n",
       "3147  I do love these things, i have them running my...         1  \n",
       "3148  Only complaint I have is that the sound qualit...         1  \n",
       "3149                                               Good         1  "
      ]
     },
     "execution_count": 12,
     "metadata": {},
     "output_type": "execute_result"
    }
   ],
   "source": [
    "df.tail()"
   ]
  },
  {
   "cell_type": "code",
   "execution_count": 13,
   "id": "36a01a90-c91f-4dda-8adf-dd0d7248e097",
   "metadata": {
    "colab": {
     "base_uri": "https://localhost:8080/"
    },
    "id": "36a01a90-c91f-4dda-8adf-dd0d7248e097",
    "outputId": "3631bce4-93aa-477e-88d5-65b8df3d822e"
   },
   "outputs": [
    {
     "data": {
      "text/plain": [
       "(3150, 5)"
      ]
     },
     "execution_count": 13,
     "metadata": {},
     "output_type": "execute_result"
    }
   ],
   "source": [
    "df.shape"
   ]
  },
  {
   "cell_type": "code",
   "execution_count": 14,
   "id": "0d0eab55-d619-4640-b9a4-6e02cc3215f7",
   "metadata": {
    "colab": {
     "base_uri": "https://localhost:8080/"
    },
    "id": "0d0eab55-d619-4640-b9a4-6e02cc3215f7",
    "outputId": "f5bd6d75-f04f-4735-a59b-9930edfe56cc"
   },
   "outputs": [
    {
     "name": "stdout",
     "output_type": "stream",
     "text": [
      "<class 'pandas.core.frame.DataFrame'>\n",
      "RangeIndex: 3150 entries, 0 to 3149\n",
      "Data columns (total 5 columns):\n",
      " #   Column            Non-Null Count  Dtype \n",
      "---  ------            --------------  ----- \n",
      " 0   rating            3150 non-null   int64 \n",
      " 1   date              3150 non-null   object\n",
      " 2   variation         3150 non-null   object\n",
      " 3   verified_reviews  3149 non-null   object\n",
      " 4   feedback          3150 non-null   int64 \n",
      "dtypes: int64(2), object(3)\n",
      "memory usage: 123.2+ KB\n"
     ]
    }
   ],
   "source": [
    "df.info()"
   ]
  },
  {
   "cell_type": "code",
   "execution_count": 15,
   "id": "1b977bbb-5b5a-4827-9cd9-ef3108b1ff7b",
   "metadata": {
    "colab": {
     "base_uri": "https://localhost:8080/",
     "height": 241
    },
    "id": "1b977bbb-5b5a-4827-9cd9-ef3108b1ff7b",
    "outputId": "24f76456-c353-47da-925e-049a44f84cf5"
   },
   "outputs": [
    {
     "data": {
      "text/html": [
       "<div>\n",
       "<style scoped>\n",
       "    .dataframe tbody tr th:only-of-type {\n",
       "        vertical-align: middle;\n",
       "    }\n",
       "\n",
       "    .dataframe tbody tr th {\n",
       "        vertical-align: top;\n",
       "    }\n",
       "\n",
       "    .dataframe thead th {\n",
       "        text-align: right;\n",
       "    }\n",
       "</style>\n",
       "<table border=\"1\" class=\"dataframe\">\n",
       "  <thead>\n",
       "    <tr style=\"text-align: right;\">\n",
       "      <th></th>\n",
       "      <th>0</th>\n",
       "    </tr>\n",
       "  </thead>\n",
       "  <tbody>\n",
       "    <tr>\n",
       "      <th>verified_reviews</th>\n",
       "      <td>1</td>\n",
       "    </tr>\n",
       "    <tr>\n",
       "      <th>rating</th>\n",
       "      <td>0</td>\n",
       "    </tr>\n",
       "    <tr>\n",
       "      <th>date</th>\n",
       "      <td>0</td>\n",
       "    </tr>\n",
       "    <tr>\n",
       "      <th>variation</th>\n",
       "      <td>0</td>\n",
       "    </tr>\n",
       "    <tr>\n",
       "      <th>feedback</th>\n",
       "      <td>0</td>\n",
       "    </tr>\n",
       "  </tbody>\n",
       "</table>\n",
       "</div><br><label><b>dtype:</b> int64</label>"
      ],
      "text/plain": [
       "verified_reviews    1\n",
       "rating              0\n",
       "date                0\n",
       "variation           0\n",
       "feedback            0\n",
       "dtype: int64"
      ]
     },
     "execution_count": 15,
     "metadata": {},
     "output_type": "execute_result"
    }
   ],
   "source": [
    "df.isnull().sum().sort_values(ascending=False)"
   ]
  },
  {
   "cell_type": "raw",
   "id": "f369e1d5-4624-4cd1-9ef5-cac0083e777f",
   "metadata": {
    "id": "f369e1d5-4624-4cd1-9ef5-cac0083e777f"
   },
   "source": []
  },
  {
   "cell_type": "markdown",
   "id": "9369ed51-4681-4ac0-91c2-ecde71d0f4f5",
   "metadata": {
    "id": "9369ed51-4681-4ac0-91c2-ecde71d0f4f5"
   },
   "source": [
    "## <font color='#ff4d00'> Boşluk Varsa Doldurmaya, Düzeltilecek Kısım Varsa Düzeltmeye Başladık - If there is a gap, we started to fill it and if there is a part to be corrected, we started to correct it."
   ]
  },
  {
   "cell_type": "code",
   "execution_count": 16,
   "id": "0M2XfjobyC_2",
   "metadata": {
    "colab": {
     "base_uri": "https://localhost:8080/",
     "height": 36
    },
    "id": "0M2XfjobyC_2",
    "outputId": "5f6c36f4-3395-4821-fd22-ebe923f38145"
   },
   "outputs": [
    {
     "data": {
      "application/vnd.google.colaboratory.intrinsic+json": {
       "type": "string"
      },
      "text/plain": [
       "'Love my Echo!'"
      ]
     },
     "execution_count": 16,
     "metadata": {},
     "output_type": "execute_result"
    }
   ],
   "source": [
    "df['verified_reviews'][0]"
   ]
  },
  {
   "cell_type": "code",
   "execution_count": 17,
   "id": "pTfGwVMczRc0",
   "metadata": {
    "colab": {
     "base_uri": "https://localhost:8080/",
     "height": 36
    },
    "id": "pTfGwVMczRc0",
    "outputId": "77c69ebc-1c9d-418b-aa5f-a38a3842ada3"
   },
   "outputs": [
    {
     "data": {
      "application/vnd.google.colaboratory.intrinsic+json": {
       "type": "string"
      },
      "text/plain": [
       "'Loved it!'"
      ]
     },
     "execution_count": 17,
     "metadata": {},
     "output_type": "execute_result"
    }
   ],
   "source": [
    "df['verified_reviews'][1]"
   ]
  },
  {
   "cell_type": "code",
   "execution_count": 18,
   "id": "fScXtk65zRY0",
   "metadata": {
    "colab": {
     "base_uri": "https://localhost:8080/",
     "height": 53
    },
    "id": "fScXtk65zRY0",
    "outputId": "be9fbed3-5acb-44b0-90bc-a4465ceb7a89"
   },
   "outputs": [
    {
     "data": {
      "application/vnd.google.colaboratory.intrinsic+json": {
       "type": "string"
      },
      "text/plain": [
       "'Sometimes while playing a game, you can answer a question correctly but Alexa says you got it wrong and answers the same as you.  I like being able to turn lights on and off while away from home.'"
      ]
     },
     "execution_count": 18,
     "metadata": {},
     "output_type": "execute_result"
    }
   ],
   "source": [
    "df['verified_reviews'][2]"
   ]
  },
  {
   "cell_type": "code",
   "execution_count": 19,
   "id": "Tkrv1HDBG6Op",
   "metadata": {
    "id": "Tkrv1HDBG6Op"
   },
   "outputs": [],
   "source": [
    "#df['verified_reviews']=df['verified_reviews'].apply(lambda x: nfx.clean_text(x))\n",
    "#df['verified_reviews'] = df['verified_reviews'].str.replace('\\d+', '',regex=True)"
   ]
  },
  {
   "cell_type": "code",
   "execution_count": 20,
   "id": "16a03b72-353c-4368-a46b-cdf6f46da50f",
   "metadata": {
    "id": "16a03b72-353c-4368-a46b-cdf6f46da50f"
   },
   "outputs": [],
   "source": [
    "def algo_text(df):\n",
    "\n",
    "  for col in df.columns:\n",
    "    if df[col].dtype=='object':\n",
    "      df[col] = df[col].str.lower()\n",
    "      df[col] = df[col].str.replace('[^\\w\\s]', '', regex=True)\n",
    "      df[col] = df[col].str.replace('\\n', '',regex=True)\n",
    "      df[col] = df[col].str.replace('\\d+', '',regex=True)\n",
    "      df[col] = df[col].str.replace('\\r', '',regex=True)\n",
    "      df[col] = df[col].str.replace('.', '',regex=True)\n",
    "      df[col] = df[col].str.replace(',', '',regex=True)\n",
    "    return df\n",
    "    # TR = Bu kod data type object olan verilerin buluyor ve onlarda istenmeyen işartetleri kaldırıyor.\n",
    "    # EN = This code finds the data with data type object and removes the unwanted marks from them.\n",
    "\n",
    "df=algo_text(df)"
   ]
  },
  {
   "cell_type": "code",
   "execution_count": 21,
   "id": "nguWcdxdaAJu",
   "metadata": {
    "id": "nguWcdxdaAJu"
   },
   "outputs": [],
   "source": [
    "df.dropna(inplace=True)"
   ]
  },
  {
   "cell_type": "code",
   "execution_count": 22,
   "id": "vtaMIGM6FqEk",
   "metadata": {
    "colab": {
     "base_uri": "https://localhost:8080/"
    },
    "id": "vtaMIGM6FqEk",
    "outputId": "9054d966-f815-4e8c-8b02-fc1c09f08a83"
   },
   "outputs": [
    {
     "name": "stdout",
     "output_type": "stream",
     "text": [
      "<class 'pandas.core.frame.DataFrame'>\n",
      "Index: 3149 entries, 0 to 3149\n",
      "Data columns (total 5 columns):\n",
      " #   Column            Non-Null Count  Dtype \n",
      "---  ------            --------------  ----- \n",
      " 0   rating            3149 non-null   int64 \n",
      " 1   date              3149 non-null   object\n",
      " 2   variation         3149 non-null   object\n",
      " 3   verified_reviews  3149 non-null   object\n",
      " 4   feedback          3149 non-null   int64 \n",
      "dtypes: int64(2), object(3)\n",
      "memory usage: 147.6+ KB\n",
      "None\n"
     ]
    }
   ],
   "source": [
    "print(df.info())"
   ]
  },
  {
   "cell_type": "code",
   "execution_count": 23,
   "id": "povLcHyzEms1",
   "metadata": {
    "colab": {
     "base_uri": "https://localhost:8080/",
     "height": 241
    },
    "id": "povLcHyzEms1",
    "outputId": "c9eabe42-6bee-4403-826e-e27bbd0cc885"
   },
   "outputs": [
    {
     "data": {
      "text/html": [
       "<div>\n",
       "<style scoped>\n",
       "    .dataframe tbody tr th:only-of-type {\n",
       "        vertical-align: middle;\n",
       "    }\n",
       "\n",
       "    .dataframe tbody tr th {\n",
       "        vertical-align: top;\n",
       "    }\n",
       "\n",
       "    .dataframe thead th {\n",
       "        text-align: right;\n",
       "    }\n",
       "</style>\n",
       "<table border=\"1\" class=\"dataframe\">\n",
       "  <thead>\n",
       "    <tr style=\"text-align: right;\">\n",
       "      <th></th>\n",
       "      <th>0</th>\n",
       "    </tr>\n",
       "  </thead>\n",
       "  <tbody>\n",
       "    <tr>\n",
       "      <th>rating</th>\n",
       "      <td>0</td>\n",
       "    </tr>\n",
       "    <tr>\n",
       "      <th>date</th>\n",
       "      <td>0</td>\n",
       "    </tr>\n",
       "    <tr>\n",
       "      <th>variation</th>\n",
       "      <td>0</td>\n",
       "    </tr>\n",
       "    <tr>\n",
       "      <th>verified_reviews</th>\n",
       "      <td>0</td>\n",
       "    </tr>\n",
       "    <tr>\n",
       "      <th>feedback</th>\n",
       "      <td>0</td>\n",
       "    </tr>\n",
       "  </tbody>\n",
       "</table>\n",
       "</div><br><label><b>dtype:</b> int64</label>"
      ],
      "text/plain": [
       "rating              0\n",
       "date                0\n",
       "variation           0\n",
       "verified_reviews    0\n",
       "feedback            0\n",
       "dtype: int64"
      ]
     },
     "execution_count": 23,
     "metadata": {},
     "output_type": "execute_result"
    }
   ],
   "source": [
    "df.isnull().sum().sort_values(ascending=False)"
   ]
  },
  {
   "cell_type": "code",
   "execution_count": 24,
   "id": "fa026d8a-5286-4d17-81c3-48bbfcb4d0a9",
   "metadata": {
    "colab": {
     "base_uri": "https://localhost:8080/",
     "height": 53
    },
    "id": "fa026d8a-5286-4d17-81c3-48bbfcb4d0a9",
    "outputId": "981b5eab-100a-4c4b-9904-acb9dcdb4d07"
   },
   "outputs": [
    {
     "data": {
      "application/vnd.google.colaboratory.intrinsic+json": {
       "type": "string"
      },
      "text/plain": [
       "'Sometimes while playing a game, you can answer a question correctly but Alexa says you got it wrong and answers the same as you.  I like being able to turn lights on and off while away from home.'"
      ]
     },
     "execution_count": 24,
     "metadata": {},
     "output_type": "execute_result"
    }
   ],
   "source": [
    "df['verified_reviews'][2]"
   ]
  },
  {
   "cell_type": "code",
   "execution_count": 25,
   "id": "166c87ed-8381-4ae5-a8c5-77045f96f0c8",
   "metadata": {
    "colab": {
     "base_uri": "https://localhost:8080/"
    },
    "id": "166c87ed-8381-4ae5-a8c5-77045f96f0c8",
    "outputId": "f0605e9d-0f2e-490d-9313-5767445c1bbb"
   },
   "outputs": [
    {
     "name": "stdout",
     "output_type": "stream",
     "text": [
      "23.483254432678223 saniye\n"
     ]
    }
   ],
   "source": [
    "def detect_veri(reviewText):\n",
    "    try:\n",
    "        return detect(reviewText)\n",
    "    except:\n",
    "        return 'unknown'\n",
    "    # TR = Text sütunundaki verilerin hangi dillerde yazıldığını tespit etme.\n",
    "    # EN = Detecting in which languages ​​the data in the text column is written.\n",
    "\n",
    "start_time = time.time()\n",
    "# TR = start_time adında bir değişken tanımla, time.time() kodu ile şimdiki zamanı al.\n",
    "# EN = Define a variable called start_time and get the current time with the time.time() code.\n",
    "\n",
    "df['language'] = df['verified_reviews'].apply(detect_veri)\n",
    "# TR = language diye yeni bir sütün oluşturma. Oluşan yeni sütunu text bulunduğu sütunun .apply(detect_veri) kodu ile hangi dilde yazıldığını bul.\n",
    "# EN = Creating a new column called language. Find the language in which the new column contains text, using the .apply(detect_veri) code.\n",
    "\n",
    "end_time = time.time()\n",
    "# TR = end_time adında bir değişken tanımla, time.time() kodu ile şimdiki zamanı al.\n",
    "# EN = Define a variable called end_time and get the current time with the time.time() code.\n",
    "\n",
    "elapsed_time = end_time - start_time\n",
    "# TR = Dil tespitin ne kadar sürdüğünü bulmak için end_time'dan start_time'mı çıkar.\n",
    "# EN = Subtract start_time from end_time to find how long language detection took.\n",
    "print(f\"{elapsed_time} saniye\")"
   ]
  },
  {
   "cell_type": "code",
   "execution_count": 26,
   "id": "d73a0421-8c97-4f59-aced-439dea3924b1",
   "metadata": {
    "colab": {
     "base_uri": "https://localhost:8080/",
     "height": 503
    },
    "id": "d73a0421-8c97-4f59-aced-439dea3924b1",
    "outputId": "e3d46270-375f-454f-e179-8f44120bf29c"
   },
   "outputs": [
    {
     "data": {
      "image/png": "[encoded data removed]",
      "text/plain": [
       "<Figure size 800x550 with 1 Axes>"
      ]
     },
     "metadata": {},
     "output_type": "display_data"
    }
   ],
   "source": [
    "sns.countplot(x=df['language']);"
   ]
  },
  {
   "cell_type": "code",
   "execution_count": 27,
   "id": "jYdZ8KquJ4Hh",
   "metadata": {
    "colab": {
     "base_uri": "https://localhost:8080/",
     "height": 460
    },
    "id": "jYdZ8KquJ4Hh",
    "outputId": "62593a1b-c706-4bdf-dca3-5d8ec4063e32"
   },
   "outputs": [
    {
     "data": {
      "image/png": "[encoded data removed]",
      "text/plain": [
       "<Figure size 800x550 with 1 Axes>"
      ]
     },
     "metadata": {},
     "output_type": "display_data"
    }
   ],
   "source": [
    "df['language'].value_counts().plot.pie(autopct='%1.1f%%');"
   ]
  },
  {
   "cell_type": "code",
   "execution_count": 28,
   "id": "fd7c23aa-a2b6-4f26-9a78-3c28e2cb96ad",
   "metadata": {
    "id": "fd7c23aa-a2b6-4f26-9a78-3c28e2cb96ad"
   },
   "outputs": [],
   "source": [
    "df=df[df['language']=='en']\n",
    "# TR = language sütünündaki veriler en kelimesine eşitmi\n",
    "# EN =\n",
    "\n",
    "df.drop(index= df[df['language']!='en'].index, inplace=True)\n",
    "# TR = language sütünündaki en kelimesine eşit olmayan satırları sil.\n",
    "# EN = Delete rows in the language column that do not equal the word en."
   ]
  },
  {
   "cell_type": "code",
   "execution_count": 29,
   "id": "ba2869c0-0bba-42ab-82a1-009cac7f71a9",
   "metadata": {
    "colab": {
     "base_uri": "https://localhost:8080/",
     "height": 503
    },
    "id": "ba2869c0-0bba-42ab-82a1-009cac7f71a9",
    "outputId": "d1983221-609e-4e56-8ccb-a4fdd70ee6f2"
   },
   "outputs": [
    {
     "data": {
      "image/png": "[encoded data removed]",
      "text/plain": [
       "<Figure size 800x550 with 1 Axes>"
      ]
     },
     "metadata": {},
     "output_type": "display_data"
    }
   ],
   "source": [
    "sns.countplot(x=df['rating']);"
   ]
  },
  {
   "cell_type": "raw",
   "id": "5bab082b-3ee7-42a9-8ecf-2c14c09df1ba",
   "metadata": {
    "id": "5bab082b-3ee7-42a9-8ecf-2c14c09df1ba"
   },
   "source": []
  },
  {
   "cell_type": "markdown",
   "id": "924dcf59-d808-41c4-a383-ec27d1b45b87",
   "metadata": {
    "id": "924dcf59-d808-41c4-a383-ec27d1b45b87"
   },
   "source": [
    "## <font color='#0ceb31'>Duygu Analizi - Sentiment Analysis"
   ]
  },
  {
   "cell_type": "markdown",
   "id": "fe712e31-f7ac-426e-b57c-f273ab09482d",
   "metadata": {
    "id": "fe712e31-f7ac-426e-b57c-f273ab09482d"
   },
   "source": [
    "### <font color=#06c750>Yorumların Olumlumu ya da Olumsuzmu Olduğunu Tespit Etme - Determining Whether Comments Have Death or Immortality"
   ]
  },
  {
   "cell_type": "code",
   "execution_count": 30,
   "id": "0233bd50-f45f-419e-a619-6f7ae5de74a1",
   "metadata": {
    "id": "0233bd50-f45f-419e-a619-6f7ae5de74a1"
   },
   "outputs": [],
   "source": [
    "df['sentiment']=df['rating']\n",
    "df['sentiment']=df['sentiment'].replace([5,4],'olumlu')\n",
    "df['sentiment']=df['sentiment'].replace([1,2],'olumsuz')\n",
    "df['sentiment']=df['sentiment'].replace([3],'notr')\n",
    "# TR = sentiment diye yeni bir sütun oluşturup () sütünundaki verilere eşitledik. [5,4],'olumlu', [1,2],'olumsuz', [3],'notr'\n",
    "# EN = We created a new column called sentiment and set it equal to the data in the () column. [5,4],'positive', [1,2],'negative', [3],'neutral'"
   ]
  },
  {
   "cell_type": "code",
   "execution_count": 31,
   "id": "6b03f0ac-30c9-42a5-a4e0-91a7b8f62c0d",
   "metadata": {
    "id": "6b03f0ac-30c9-42a5-a4e0-91a7b8f62c0d"
   },
   "outputs": [],
   "source": [
    "df=df[['rating','verified_reviews','sentiment']]# a yerine puan ya da yıldız gibi değerini belirten sayı, b yerine yazımızın bulunduğu sütün adı"
   ]
  },
  {
   "cell_type": "code",
   "execution_count": 32,
   "id": "8fadb197-b2bd-463b-8845-f56291905097",
   "metadata": {
    "id": "8fadb197-b2bd-463b-8845-f56291905097"
   },
   "outputs": [],
   "source": [
    "df=df[(df['sentiment']=='olumlu')|(df['sentiment']=='notr')|(df['sentiment']=='olumsuz')]\n",
    "# TR = sentimentimizi olumlu ya da olumsuz ya da notr olacak şekilde tanımladık.\n",
    "# EN = We defined our sentiment as positive, negative or neutral."
   ]
  },
  {
   "cell_type": "code",
   "execution_count": 33,
   "id": "7406d75f-cfbf-4d38-80bf-7f0480df2b9c",
   "metadata": {
    "id": "7406d75f-cfbf-4d38-80bf-7f0480df2b9c"
   },
   "outputs": [],
   "source": [
    "df.reset_index(drop=True,inplace=True)\n",
    "# TR = Yukarıda yaptığımız işlem neticesinde olumlu,notr,olumsuz kelimeler kendi içlerinde üst üste oldular. Bu yüzden indexlerini sıfırlayıp tekrar verdik.\n",
    "# EN = As a result of the process we did above, positive, neutral and negative words were placed on top of each other. That's why we reset their indexes and gave them again."
   ]
  },
  {
   "cell_type": "code",
   "execution_count": 34,
   "id": "0603a227-c380-44e3-89d6-2ac117130c02",
   "metadata": {
    "id": "0603a227-c380-44e3-89d6-2ac117130c02"
   },
   "outputs": [],
   "source": [
    "x = df['verified_reviews']\n",
    "y = df['sentiment']"
   ]
  },
  {
   "cell_type": "code",
   "execution_count": 35,
   "id": "bESmle0tKtrh",
   "metadata": {
    "id": "bESmle0tKtrh"
   },
   "outputs": [],
   "source": [
    "yelpbw = df[(df.rating == 1) | (df.rating == 2) | (df.rating == 3) | (df.rating == 4) | (df.rating == 5)]"
   ]
  },
  {
   "cell_type": "code",
   "execution_count": 36,
   "id": "MsJiDq8hKtgy",
   "metadata": {
    "id": "MsJiDq8hKtgy"
   },
   "outputs": [],
   "source": [
    "yelpbw.reset_index(drop=True,inplace=True)"
   ]
  },
  {
   "cell_type": "code",
   "execution_count": 37,
   "id": "X7rpM8ENKtbZ",
   "metadata": {
    "id": "X7rpM8ENKtbZ"
   },
   "outputs": [],
   "source": [
    "vect=CountVectorizer(stop_words='english',ngram_range=(1,2))"
   ]
  },
  {
   "cell_type": "code",
   "execution_count": 38,
   "id": "MA_L5GOAKxzg",
   "metadata": {
    "id": "MA_L5GOAKxzg"
   },
   "outputs": [],
   "source": [
    "x=yelpbw[\"verified_reviews\"]\n",
    "y=yelpbw[\"rating\"]"
   ]
  },
  {
   "cell_type": "code",
   "execution_count": 39,
   "id": "843455d1-9550-4e5f-9129-8742cb15e55e",
   "metadata": {
    "id": "843455d1-9550-4e5f-9129-8742cb15e55e"
   },
   "outputs": [],
   "source": [
    "vect=CountVectorizer()\n",
    "x=vect.fit_transform(x)"
   ]
  },
  {
   "cell_type": "code",
   "execution_count": 40,
   "id": "V-kIb5tFK7w5",
   "metadata": {
    "id": "V-kIb5tFK7w5"
   },
   "outputs": [],
   "source": [
    "def lemmafn(verified_reviews):\n",
    "    words=TextBlob.words\n",
    "    return [pr.stem(word) for word in words]"
   ]
  },
  {
   "cell_type": "markdown",
   "id": "7db2d4ab-6fa5-4ff6-b712-6970182bcb91",
   "metadata": {
    "id": "7db2d4ab-6fa5-4ff6-b712-6970182bcb91"
   },
   "source": [
    "## <font color=#10e6e6> En çok Sayıdaki Kelimeleri Kap İçine Alma - Containing the Most Numbered Words"
   ]
  },
  {
   "cell_type": "code",
   "execution_count": 41,
   "id": "7dac6a32-e9ec-4097-a297-dabe6081440e",
   "metadata": {
    "id": "7dac6a32-e9ec-4097-a297-dabe6081440e"
   },
   "outputs": [],
   "source": [
    "#wc=wordcloud\n",
    "def wc(data,bgcolor):\n",
    "    plt.figure(figsize=(10,10))\n",
    "    # TR = Kabımızın boyutunu belirttik.\n",
    "    # EN = We specified the size of our container.\n",
    "\n",
    "    mask=np.array(Image.open('cloud.png'))\n",
    "    # TR = Image.open ile resmimizi açtık. np.array resmi diziye çevirdik ve mask değişkenine atadık.\n",
    "    # EN = We opened our image with Image.open. We converted the np.array image to an array and assigned it to the mask variable.\n",
    "\n",
    "    wc=WordCloud(background_color=bgcolor,stopwords=STOPWORDS,mask=mask)\n",
    "    # TR = Bir WordCloud tanımladık. Arka plan rengini bgcolor eşitledik. stopwords=STOPWORDS ile gereksiz kelimeleri atıp anahtar kelimeleri sakladık.\n",
    "    # EN = We defined a WordCloud. We set the background color equal to bgcolor. We removed unnecessary words and kept keywords with stopwords=STOPWORDS\n",
    "\n",
    "    # TR = mask=mask yukarıda tanımladığımız mask değişkenini kullan.\n",
    "    # EN = mask=mask use the mask variable we defined above.\n",
    "    wc.generate(''.join(data))\n",
    "    # TR = .join(data) ile bütün sütündaki text alıp birleştirecek.\n",
    "    # EN = With .join(data) it will take the text in all columns and combine them.\n",
    "\n",
    "    # TR = İçinde geçen tüm kelimeleri sayacak ve hafızada tutup generate ile tanımladığımız WordCloud oluşturduk ona eşitleyecek.\n",
    "    # EN = It will count all the words in it, keep it in memory and synchronize it with the WordCloud we created with generate.\n",
    "\n",
    "    plt.imshow(wc)\n",
    "    plt.axis('off')\n",
    "    # TR = Bunla kod ile x ve y gözükmüyor.\n",
    "    # EN = With this code, x and y do not appear."
   ]
  },
  {
   "cell_type": "code",
   "execution_count": 42,
   "id": "a29b95ab-e236-4c3d-8694-3da50449e947",
   "metadata": {
    "id": "a29b95ab-e236-4c3d-8694-3da50449e947"
   },
   "outputs": [],
   "source": [
    "olumlu = df[(df['rating'] == 5) | (df['rating'] == 4)]['verified_reviews']\n",
    "nötr = df[df['rating'] == 3]['verified_reviews']\n",
    "olumsuz = df[(df['rating'] == 1) | (df['rating'] == 2)]['verified_reviews']\n",
    "# TR = 4 ya da 5 rating olanları olumlu, 3 rating olan nötr ve 1 ya da 2 rating olanları olumsuz değişkenine eşitledik.\n",
    "# EN = We equated those with 4 or 5 rating to positive, those with 3 rating to neutral, and those with 1 or 2 rating to negative."
   ]
  },
  {
   "cell_type": "code",
   "execution_count": 43,
   "id": "446f4550-34e2-40d4-b2f1-4ed44f3fd3e9",
   "metadata": {
    "colab": {
     "base_uri": "https://localhost:8080/",
     "height": 304
    },
    "id": "446f4550-34e2-40d4-b2f1-4ed44f3fd3e9",
    "outputId": "1151cbd6-5dae-4c4d-9e00-e6bd3084f20e"
   },
   "outputs": [
    {
     "ename": "FileNotFoundError",
     "evalue": "[Errno 2] No such file or directory: 'cloud.png'",
     "output_type": "error",
     "traceback": [
      "\u001b[0;31m---------------------------------------------------------------------------\u001b[0m",
      "\u001b[0;31mFileNotFoundError\u001b[0m                         Traceback (most recent call last)",
      "\u001b[0;32m<ipython-input-43-83abb6afef0b>\u001b[0m in \u001b[0;36m<cell line: 1>\u001b[0;34m()\u001b[0m\n\u001b[0;32m----> 1\u001b[0;31m \u001b[0mwc\u001b[0m\u001b[0;34m(\u001b[0m\u001b[0molumlu\u001b[0m\u001b[0;34m,\u001b[0m\u001b[0;34m'white'\u001b[0m\u001b[0;34m)\u001b[0m\u001b[0;34m\u001b[0m\u001b[0;34m\u001b[0m\u001b[0m\n\u001b[0m",
      "\u001b[0;32m<ipython-input-41-cd4a95497e83>\u001b[0m in \u001b[0;36mwc\u001b[0;34m(data, bgcolor)\u001b[0m\n\u001b[1;32m      5\u001b[0m     \u001b[0;31m# EN = We specified the size of our container.\u001b[0m\u001b[0;34m\u001b[0m\u001b[0;34m\u001b[0m\u001b[0m\n\u001b[1;32m      6\u001b[0m \u001b[0;34m\u001b[0m\u001b[0m\n\u001b[0;32m----> 7\u001b[0;31m     \u001b[0mmask\u001b[0m\u001b[0;34m=\u001b[0m\u001b[0mnp\u001b[0m\u001b[0;34m.\u001b[0m\u001b[0marray\u001b[0m\u001b[0;34m(\u001b[0m\u001b[0mImage\u001b[0m\u001b[0;34m.\u001b[0m\u001b[0mopen\u001b[0m\u001b[0;34m(\u001b[0m\u001b[0;34m'cloud.png'\u001b[0m\u001b[0;34m)\u001b[0m\u001b[0;34m)\u001b[0m\u001b[0;34m\u001b[0m\u001b[0;34m\u001b[0m\u001b[0m\n\u001b[0m\u001b[1;32m      8\u001b[0m     \u001b[0;31m# TR = Image.open ile resmimizi açtık. np.array resmi diziye çevirdik ve mask değişkenine atadık.\u001b[0m\u001b[0;34m\u001b[0m\u001b[0;34m\u001b[0m\u001b[0m\n\u001b[1;32m      9\u001b[0m     \u001b[0;31m# EN = We opened our image with Image.open. We converted the np.array image to an array and assigned it to the mask variable.\u001b[0m\u001b[0;34m\u001b[0m\u001b[0;34m\u001b[0m\u001b[0m\n",
      "\u001b[0;32m/usr/local/lib/python3.10/dist-packages/PIL/Image.py\u001b[0m in \u001b[0;36mopen\u001b[0;34m(fp, mode, formats)\u001b[0m\n\u001b[1;32m   3225\u001b[0m \u001b[0;34m\u001b[0m\u001b[0m\n\u001b[1;32m   3226\u001b[0m     \u001b[0;32mif\u001b[0m \u001b[0mfilename\u001b[0m\u001b[0;34m:\u001b[0m\u001b[0;34m\u001b[0m\u001b[0;34m\u001b[0m\u001b[0m\n\u001b[0;32m-> 3227\u001b[0;31m         \u001b[0mfp\u001b[0m \u001b[0;34m=\u001b[0m \u001b[0mbuiltins\u001b[0m\u001b[0;34m.\u001b[0m\u001b[0mopen\u001b[0m\u001b[0;34m(\u001b[0m\u001b[0mfilename\u001b[0m\u001b[0;34m,\u001b[0m \u001b[0;34m\"rb\"\u001b[0m\u001b[0;34m)\u001b[0m\u001b[0;34m\u001b[0m\u001b[0;34m\u001b[0m\u001b[0m\n\u001b[0m\u001b[1;32m   3228\u001b[0m         \u001b[0mexclusive_fp\u001b[0m \u001b[0;34m=\u001b[0m \u001b[0;32mTrue\u001b[0m\u001b[0;34m\u001b[0m\u001b[0;34m\u001b[0m\u001b[0m\n\u001b[1;32m   3229\u001b[0m \u001b[0;34m\u001b[0m\u001b[0m\n",
      "\u001b[0;31mFileNotFoundError\u001b[0m: [Errno 2] No such file or directory: 'cloud.png'"
     ]
    },
    {
     "data": {
      "text/plain": [
       "<Figure size 1000x1000 with 0 Axes>"
      ]
     },
     "metadata": {},
     "output_type": "display_data"
    }
   ],
   "source": [
    "wc(olumlu,'white')"
   ]
  },
  {
   "cell_type": "code",
   "execution_count": null,
   "id": "inRMs-E9GOHA",
   "metadata": {
    "id": "inRMs-E9GOHA"
   },
   "outputs": [],
   "source": [
    "wc(nötr,'white')"
   ]
  },
  {
   "cell_type": "code",
   "execution_count": null,
   "id": "2PyeElscGOCA",
   "metadata": {
    "id": "2PyeElscGOCA"
   },
   "outputs": [],
   "source": [
    "wc(olumsuz,'white')"
   ]
  },
  {
   "cell_type": "markdown",
   "id": "08ad20cb-ac55-45f1-a48c-d3f5d7c2e260",
   "metadata": {
    "id": "08ad20cb-ac55-45f1-a48c-d3f5d7c2e260"
   },
   "source": [
    "## <font color='#0F52BA'> Öznitelik Mühendisliği - Feature Engineering"
   ]
  },
  {
   "cell_type": "markdown",
   "id": "49b71257-fbc0-4e18-aa8a-53e16b44593f",
   "metadata": {
    "id": "49b71257-fbc0-4e18-aa8a-53e16b44593f"
   },
   "source": [
    "### <font color=#007fff> Model - Modelling"
   ]
  },
  {
   "cell_type": "code",
   "execution_count": 64,
   "id": "63bb0187-72cd-4274-887b-de1b3c6863f3",
   "metadata": {
    "id": "63bb0187-72cd-4274-887b-de1b3c6863f3"
   },
   "outputs": [],
   "source": [
    "x = df['verified_reviews'].fillna('')\n",
    "y = df['rating'].apply(lambda rating: 1 if rating >= 4 else 0)  # 1: Positive, 0: Negative"
   ]
  },
  {
   "cell_type": "code",
   "execution_count": 65,
   "id": "1TmF4AfEBV_g",
   "metadata": {
    "id": "1TmF4AfEBV_g"
   },
   "outputs": [],
   "source": [
    "# Metin verilerini TF-IDF ile dönüştür\n",
    "vectorizer = TfidfVectorizer(max_features=1000)\n",
    "x = vectorizer.fit_transform(x).toarray()"
   ]
  },
  {
   "cell_type": "code",
   "execution_count": 66,
   "id": "9a5083e9-31c1-4c02-bd62-3fe747d58995",
   "metadata": {
    "id": "9a5083e9-31c1-4c02-bd62-3fe747d58995"
   },
   "outputs": [],
   "source": [
    "x_train,x_test,y_train,y_test=train_test_split(x,y,test_size=.20,random_state=42)\n",
    "# TR = modelimizi eğittik.\n",
    "# EN = We trained our model."
   ]
  },
  {
   "cell_type": "code",
   "execution_count": 67,
   "id": "CCpn3d2cVEX6",
   "metadata": {
    "colab": {
     "base_uri": "https://localhost:8080/"
    },
    "id": "CCpn3d2cVEX6",
    "outputId": "3f824c42-2524-4c93-9630-b7c86a1c4df6"
   },
   "outputs": [
    {
     "name": "stdout",
     "output_type": "stream",
     "text": [
      "Epoch 1/100\n",
      "\u001b[1m79/79\u001b[0m \u001b[32m━━━━━━━━━━━━━━━━━━━━\u001b[0m\u001b[37m\u001b[0m \u001b[1m1s\u001b[0m 4ms/step - accuracy: 0.8596 - loss: 0.5927 - val_accuracy: 0.8571 - val_loss: 0.4038\n",
      "Epoch 2/100\n",
      "\u001b[1m79/79\u001b[0m \u001b[32m━━━━━━━━━━━━━━━━━━━━\u001b[0m\u001b[37m\u001b[0m \u001b[1m0s\u001b[0m 2ms/step - accuracy: 0.8810 - loss: 0.3548 - val_accuracy: 0.8571 - val_loss: 0.3497\n",
      "Epoch 3/100\n",
      "\u001b[1m79/79\u001b[0m \u001b[32m━━━━━━━━━━━━━━━━━━━━\u001b[0m\u001b[37m\u001b[0m \u001b[1m0s\u001b[0m 2ms/step - accuracy: 0.8782 - loss: 0.3032 - val_accuracy: 0.8571 - val_loss: 0.3045\n",
      "Epoch 4/100\n",
      "\u001b[1m79/79\u001b[0m \u001b[32m━━━━━━━━━━━━━━━━━━━━\u001b[0m\u001b[37m\u001b[0m \u001b[1m0s\u001b[0m 3ms/step - accuracy: 0.8745 - loss: 0.2596 - val_accuracy: 0.8714 - val_loss: 0.2612\n",
      "Epoch 5/100\n",
      "\u001b[1m79/79\u001b[0m \u001b[32m━━━━━━━━━━━━━━━━━━━━\u001b[0m\u001b[37m\u001b[0m \u001b[1m0s\u001b[0m 3ms/step - accuracy: 0.9234 - loss: 0.1935 - val_accuracy: 0.8873 - val_loss: 0.2358\n",
      "Epoch 6/100\n",
      "\u001b[1m79/79\u001b[0m \u001b[32m━━━━━━━━━━━━━━━━━━━━\u001b[0m\u001b[37m\u001b[0m \u001b[1m0s\u001b[0m 3ms/step - accuracy: 0.9360 - loss: 0.1739 - val_accuracy: 0.9048 - val_loss: 0.2141\n",
      "Epoch 7/100\n",
      "\u001b[1m79/79\u001b[0m \u001b[32m━━━━━━━━━━━━━━━━━━━━\u001b[0m\u001b[37m\u001b[0m \u001b[1m0s\u001b[0m 3ms/step - accuracy: 0.9481 - loss: 0.1442 - val_accuracy: 0.9032 - val_loss: 0.2048\n",
      "Epoch 8/100\n",
      "\u001b[1m79/79\u001b[0m \u001b[32m━━━━━━━━━━━━━━━━━━━━\u001b[0m\u001b[37m\u001b[0m \u001b[1m0s\u001b[0m 3ms/step - accuracy: 0.9623 - loss: 0.1138 - val_accuracy: 0.9270 - val_loss: 0.1957\n",
      "Epoch 9/100\n",
      "\u001b[1m79/79\u001b[0m \u001b[32m━━━━━━━━━━━━━━━━━━━━\u001b[0m\u001b[37m\u001b[0m \u001b[1m0s\u001b[0m 3ms/step - accuracy: 0.9683 - loss: 0.1052 - val_accuracy: 0.9254 - val_loss: 0.1917\n",
      "Epoch 10/100\n",
      "\u001b[1m79/79\u001b[0m \u001b[32m━━━━━━━━━━━━━━━━━━━━\u001b[0m\u001b[37m\u001b[0m \u001b[1m0s\u001b[0m 3ms/step - accuracy: 0.9764 - loss: 0.0814 - val_accuracy: 0.9317 - val_loss: 0.1897\n",
      "Epoch 11/100\n",
      "\u001b[1m79/79\u001b[0m \u001b[32m━━━━━━━━━━━━━━━━━━━━\u001b[0m\u001b[37m\u001b[0m \u001b[1m0s\u001b[0m 2ms/step - accuracy: 0.9746 - loss: 0.0826 - val_accuracy: 0.9317 - val_loss: 0.1903\n",
      "Epoch 12/100\n",
      "\u001b[1m79/79\u001b[0m \u001b[32m━━━━━━━━━━━━━━━━━━━━\u001b[0m\u001b[37m\u001b[0m \u001b[1m0s\u001b[0m 2ms/step - accuracy: 0.9811 - loss: 0.0713 - val_accuracy: 0.9317 - val_loss: 0.1898\n",
      "Epoch 13/100\n",
      "\u001b[1m79/79\u001b[0m \u001b[32m━━━━━━━━━━━━━━━━━━━━\u001b[0m\u001b[37m\u001b[0m \u001b[1m0s\u001b[0m 2ms/step - accuracy: 0.9853 - loss: 0.0604 - val_accuracy: 0.9286 - val_loss: 0.1914\n",
      "Epoch 14/100\n",
      "\u001b[1m79/79\u001b[0m \u001b[32m━━━━━━━━━━━━━━━━━━━━\u001b[0m\u001b[37m\u001b[0m \u001b[1m0s\u001b[0m 2ms/step - accuracy: 0.9829 - loss: 0.0582 - val_accuracy: 0.9286 - val_loss: 0.1920\n",
      "Epoch 15/100\n",
      "\u001b[1m79/79\u001b[0m \u001b[32m━━━━━━━━━━━━━━━━━━━━\u001b[0m\u001b[37m\u001b[0m \u001b[1m0s\u001b[0m 2ms/step - accuracy: 0.9880 - loss: 0.0530 - val_accuracy: 0.9286 - val_loss: 0.1958\n",
      "Epoch 16/100\n",
      "\u001b[1m79/79\u001b[0m \u001b[32m━━━━━━━━━━━━━━━━━━━━\u001b[0m\u001b[37m\u001b[0m \u001b[1m0s\u001b[0m 3ms/step - accuracy: 0.9860 - loss: 0.0470 - val_accuracy: 0.9302 - val_loss: 0.1997\n",
      "Epoch 17/100\n",
      "\u001b[1m79/79\u001b[0m \u001b[32m━━━━━━━━━━━━━━━━━━━━\u001b[0m\u001b[37m\u001b[0m \u001b[1m0s\u001b[0m 2ms/step - accuracy: 0.9870 - loss: 0.0457 - val_accuracy: 0.9302 - val_loss: 0.2016\n",
      "Epoch 18/100\n",
      "\u001b[1m79/79\u001b[0m \u001b[32m━━━━━━━━━━━━━━━━━━━━\u001b[0m\u001b[37m\u001b[0m \u001b[1m0s\u001b[0m 2ms/step - accuracy: 0.9888 - loss: 0.0391 - val_accuracy: 0.9302 - val_loss: 0.2056\n",
      "Epoch 19/100\n",
      "\u001b[1m79/79\u001b[0m \u001b[32m━━━━━━━━━━━━━━━━━━━━\u001b[0m\u001b[37m\u001b[0m \u001b[1m0s\u001b[0m 2ms/step - accuracy: 0.9891 - loss: 0.0411 - val_accuracy: 0.9302 - val_loss: 0.2088\n",
      "Epoch 20/100\n",
      "\u001b[1m79/79\u001b[0m \u001b[32m━━━━━━━━━━━━━━━━━━━━\u001b[0m\u001b[37m\u001b[0m \u001b[1m0s\u001b[0m 2ms/step - accuracy: 0.9879 - loss: 0.0385 - val_accuracy: 0.9302 - val_loss: 0.2129\n"
     ]
    }
   ],
   "source": [
    "model=Sequential()\n",
    "model.add(Dense(64, activation='relu', input_shape=(x.shape[1],)))\n",
    "# TR = Bu katman, tüm giriş nöronlarına bağlantı kurar ve her nöronun ağırlıklarını öğrenir. 64 nöron var.\n",
    "# Aktivasyon fonksiyonunu ReLU (Rectified Linear Unit) olarak ayarlar. ReLU fonksiyonu, negatif değerleri sıfıra dönüştürür ve pozitif değerleri olduğu gibi bırakır.\n",
    "# EN = This layer connects all input neurons and learns the weights of each neuron. There are 64 neurons.\n",
    "# Sets the activation function to ReLU (Rectified Linear Unit). The ReLU function converts negative values ​​to zero and leaves positive values ​​as is.\n",
    "\n",
    "model.add(Dropout(0.2))\n",
    "# TR = Derin öğrenme modelinde aşırı uyumu (overfitting) azaltmak için kullanılır.\n",
    "# EN = It is used to reduce overfitting in the deep learning model.\n",
    "\n",
    "model.add(Dense(1, activation='sigmoid'))\n",
    "# TR = Çıkış katmanına 1 nöron ve sigmoid aktivasyon fonksiyonu ekliyoruz.\n",
    "# EN = We add an output layer with 1 neurons and a sigmoid activation function.\n",
    "\n",
    "model.compile(optimizer='adam', loss='binary_crossentropy', metrics=['accuracy'])\n",
    "# TR = Modeli binary_crossentropy kayıp fonksiyonu, Adam optimizasyonu ve doğruluk metriği ile derliyoruz.\n",
    "# EN = We compile the model with binary_crossentropy loss function, Adam optimizer, and accuracy metric.\n",
    "\n",
    "early_stopping = EarlyStopping(monitor='val_loss', patience=10, restore_best_weights=True)\n",
    "# TR = EarlyStopping ekleyin: Eğitim sırasında model performansı iyileşmediğinde erken durması için kullanıyoruz.\n",
    "# EN = Add EarlyStopping: We use it to stop early when model performance does not improve during training.\n",
    "\n",
    "# TR = val_loss 10 epoch boyunca iyileşmezse eğitimi durduruyor ve en iyi ağırlıkları geri yüklüyor.\n",
    "# EN = If val_loss does not improve for 10 epochs, it stops training and restores the best weights.\n",
    "\n",
    "history=model.fit(x_train, y_train, epochs=100, validation_data=(x_test, y_test), callbacks=[early_stopping])\n",
    "# TR = Modeli eğitir ve early stopping callback'ini kullanır.\n",
    "# EN = Trains the model with early stopping callback."
   ]
  },
  {
   "cell_type": "code",
   "execution_count": 68,
   "id": "CJ-_YxcEOZdP",
   "metadata": {
    "colab": {
     "base_uri": "https://localhost:8080/",
     "height": 241
    },
    "id": "CJ-_YxcEOZdP",
    "outputId": "31e6a4b7-3636-47f2-a99c-bd61fcdcb8b7"
   },
   "outputs": [
    {
     "data": {
      "text/html": [
       "<pre style=\"white-space:pre;overflow-x:auto;line-height:normal;font-family:Menlo,'DejaVu Sans Mono',consolas,'Courier New',monospace\"><span style=\"font-weight: bold\">Model: \"sequential_2\"</span>\n",
       "</pre>\n"
      ],
      "text/plain": [
       "\u001b[1mModel: \"sequential_2\"\u001b[0m\n"
      ]
     },
     "metadata": {},
     "output_type": "display_data"
    },
    {
     "data": {
      "text/html": [
       "<pre style=\"white-space:pre;overflow-x:auto;line-height:normal;font-family:Menlo,'DejaVu Sans Mono',consolas,'Courier New',monospace\">┏━━━━━━━━━━━━━━━━━━━━━━━━━━━━━━━━━━━━━━┳━━━━━━━━━━━━━━━━━━━━━━━━━━━━━┳━━━━━━━━━━━━━━━━━┓\n",
       "┃<span style=\"font-weight: bold\"> Layer (type)                         </span>┃<span style=\"font-weight: bold\"> Output Shape                </span>┃<span style=\"font-weight: bold\">         Param # </span>┃\n",
       "┡━━━━━━━━━━━━━━━━━━━━━━━━━━━━━━━━━━━━━━╇━━━━━━━━━━━━━━━━━━━━━━━━━━━━━╇━━━━━━━━━━━━━━━━━┩\n",
       "│ dense_4 (<span style=\"color: #0087ff; text-decoration-color: #0087ff\">Dense</span>)                      │ (<span style=\"color: #00d7ff; text-decoration-color: #00d7ff\">None</span>, <span style=\"color: #00af00; text-decoration-color: #00af00\">64</span>)                  │          <span style=\"color: #00af00; text-decoration-color: #00af00\">64,064</span> │\n",
       "├──────────────────────────────────────┼─────────────────────────────┼─────────────────┤\n",
       "│ dropout_2 (<span style=\"color: #0087ff; text-decoration-color: #0087ff\">Dropout</span>)                  │ (<span style=\"color: #00d7ff; text-decoration-color: #00d7ff\">None</span>, <span style=\"color: #00af00; text-decoration-color: #00af00\">64</span>)                  │               <span style=\"color: #00af00; text-decoration-color: #00af00\">0</span> │\n",
       "├──────────────────────────────────────┼─────────────────────────────┼─────────────────┤\n",
       "│ dense_5 (<span style=\"color: #0087ff; text-decoration-color: #0087ff\">Dense</span>)                      │ (<span style=\"color: #00d7ff; text-decoration-color: #00d7ff\">None</span>, <span style=\"color: #00af00; text-decoration-color: #00af00\">1</span>)                   │              <span style=\"color: #00af00; text-decoration-color: #00af00\">65</span> │\n",
       "└──────────────────────────────────────┴─────────────────────────────┴─────────────────┘\n",
       "</pre>\n"
      ],
      "text/plain": [
       "┏━━━━━━━━━━━━━━━━━━━━━━━━━━━━━━━━━━━━━━┳━━━━━━━━━━━━━━━━━━━━━━━━━━━━━┳━━━━━━━━━━━━━━━━━┓\n",
       "┃\u001b[1m \u001b[0m\u001b[1mLayer (type)                        \u001b[0m\u001b[1m \u001b[0m┃\u001b[1m \u001b[0m\u001b[1mOutput Shape               \u001b[0m\u001b[1m \u001b[0m┃\u001b[1m \u001b[0m\u001b[1m        Param #\u001b[0m\u001b[1m \u001b[0m┃\n",
       "┡━━━━━━━━━━━━━━━━━━━━━━━━━━━━━━━━━━━━━━╇━━━━━━━━━━━━━━━━━━━━━━━━━━━━━╇━━━━━━━━━━━━━━━━━┩\n",
       "│ dense_4 (\u001b[38;5;33mDense\u001b[0m)                      │ (\u001b[38;5;45mNone\u001b[0m, \u001b[38;5;34m64\u001b[0m)                  │          \u001b[38;5;34m64,064\u001b[0m │\n",
       "├──────────────────────────────────────┼─────────────────────────────┼─────────────────┤\n",
       "│ dropout_2 (\u001b[38;5;33mDropout\u001b[0m)                  │ (\u001b[38;5;45mNone\u001b[0m, \u001b[38;5;34m64\u001b[0m)                  │               \u001b[38;5;34m0\u001b[0m │\n",
       "├──────────────────────────────────────┼─────────────────────────────┼─────────────────┤\n",
       "│ dense_5 (\u001b[38;5;33mDense\u001b[0m)                      │ (\u001b[38;5;45mNone\u001b[0m, \u001b[38;5;34m1\u001b[0m)                   │              \u001b[38;5;34m65\u001b[0m │\n",
       "└──────────────────────────────────────┴─────────────────────────────┴─────────────────┘\n"
      ]
     },
     "metadata": {},
     "output_type": "display_data"
    },
    {
     "data": {
      "text/html": [
       "<pre style=\"white-space:pre;overflow-x:auto;line-height:normal;font-family:Menlo,'DejaVu Sans Mono',consolas,'Courier New',monospace\"><span style=\"font-weight: bold\"> Total params: </span><span style=\"color: #00af00; text-decoration-color: #00af00\">192,389</span> (751.52 KB)\n",
       "</pre>\n"
      ],
      "text/plain": [
       "\u001b[1m Total params: \u001b[0m\u001b[38;5;34m192,389\u001b[0m (751.52 KB)\n"
      ]
     },
     "metadata": {},
     "output_type": "display_data"
    },
    {
     "data": {
      "text/html": [
       "<pre style=\"white-space:pre;overflow-x:auto;line-height:normal;font-family:Menlo,'DejaVu Sans Mono',consolas,'Courier New',monospace\"><span style=\"font-weight: bold\"> Trainable params: </span><span style=\"color: #00af00; text-decoration-color: #00af00\">64,129</span> (250.50 KB)\n",
       "</pre>\n"
      ],
      "text/plain": [
       "\u001b[1m Trainable params: \u001b[0m\u001b[38;5;34m64,129\u001b[0m (250.50 KB)\n"
      ]
     },
     "metadata": {},
     "output_type": "display_data"
    },
    {
     "data": {
      "text/html": [
       "<pre style=\"white-space:pre;overflow-x:auto;line-height:normal;font-family:Menlo,'DejaVu Sans Mono',consolas,'Courier New',monospace\"><span style=\"font-weight: bold\"> Non-trainable params: </span><span style=\"color: #00af00; text-decoration-color: #00af00\">0</span> (0.00 B)\n",
       "</pre>\n"
      ],
      "text/plain": [
       "\u001b[1m Non-trainable params: \u001b[0m\u001b[38;5;34m0\u001b[0m (0.00 B)\n"
      ]
     },
     "metadata": {},
     "output_type": "display_data"
    },
    {
     "data": {
      "text/html": [
       "<pre style=\"white-space:pre;overflow-x:auto;line-height:normal;font-family:Menlo,'DejaVu Sans Mono',consolas,'Courier New',monospace\"><span style=\"font-weight: bold\"> Optimizer params: </span><span style=\"color: #00af00; text-decoration-color: #00af00\">128,260</span> (501.02 KB)\n",
       "</pre>\n"
      ],
      "text/plain": [
       "\u001b[1m Optimizer params: \u001b[0m\u001b[38;5;34m128,260\u001b[0m (501.02 KB)\n"
      ]
     },
     "metadata": {},
     "output_type": "display_data"
    }
   ],
   "source": [
    "model.summary()"
   ]
  },
  {
   "cell_type": "code",
   "execution_count": 69,
   "id": "U7e_QXrANoJj",
   "metadata": {
    "colab": {
     "base_uri": "https://localhost:8080/"
    },
    "id": "U7e_QXrANoJj",
    "outputId": "fd95b11e-faee-4f3f-c2e3-510bd8f393d4"
   },
   "outputs": [
    {
     "name": "stdout",
     "output_type": "stream",
     "text": [
      "\u001b[1m20/20\u001b[0m \u001b[32m━━━━━━━━━━━━━━━━━━━━\u001b[0m\u001b[37m\u001b[0m \u001b[1m0s\u001b[0m 1ms/step - accuracy: 0.9321 - loss: 0.1822 \n",
      "Test doğruluğu: 0.9317\n"
     ]
    }
   ],
   "source": [
    "test_loss, test_acc = model.evaluate(x_test, y_test)\n",
    "# TR = test_loss değişkeni, test verileri üzerinde hesaplanan kayıp değerini içerir. test_acc değişkeni, test verileri üzerinde hesaplanan doğruluk değerini içerir.\n",
    "# EN = The test_loss variable contains the loss value calculated on the test data. The test_acc variable contains the accuracy value calculated on the test data.\n",
    "\n",
    "print(f\"Test doğruluğu: {test_acc:.4f}\")"
   ]
  },
  {
   "cell_type": "code",
   "execution_count": 70,
   "id": "V1djAau5NoGv",
   "metadata": {
    "colab": {
     "base_uri": "https://localhost:8080/"
    },
    "id": "V1djAau5NoGv",
    "outputId": "7a1aa7a7-5f10-42ef-f56a-e442d05c49d3"
   },
   "outputs": [
    {
     "name": "stdout",
     "output_type": "stream",
     "text": [
      "\u001b[1m20/20\u001b[0m \u001b[32m━━━━━━━━━━━━━━━━━━━━\u001b[0m\u001b[37m\u001b[0m \u001b[1m0s\u001b[0m 2ms/step \n"
     ]
    }
   ],
   "source": [
    "pred=model.predict(x_test)\n",
    "# TR = modeli x_test ile predict özelliği ile tahmin ettik. predict=tahmin demek. Dahmin edip pred eşitledik.\n",
    "# EN = We predicted the model with x_test and the predict feature. predict=means prediction. We guessed and equalized the pred."
   ]
  },
  {
   "cell_type": "code",
   "execution_count": 71,
   "id": "vxvfPQlLGUp_",
   "metadata": {
    "id": "vxvfPQlLGUp_"
   },
   "outputs": [],
   "source": [
    "pred = (pred > 0.5).astype(int).flatten()"
   ]
  },
  {
   "cell_type": "code",
   "execution_count": 74,
   "id": "2lakhM-kNoDw",
   "metadata": {
    "colab": {
     "base_uri": "https://localhost:8080/"
    },
    "id": "2lakhM-kNoDw",
    "outputId": "91bee98b-8ebe-48e5-e602-646d0a52db7e"
   },
   "outputs": [
    {
     "data": {
      "text/plain": [
       "0.9317460317460318"
      ]
     },
     "execution_count": 74,
     "metadata": {},
     "output_type": "execute_result"
    }
   ],
   "source": [
    "accuracy_score(y_test, pred)\n",
    "# TR = accuracy_score fonksiyonu ile y_test, pred kullanarak sonucumuzu bulduk.\n",
    "# EN = We found our result using the accuracy_score function and y_test, pred."
   ]
  },
  {
   "cell_type": "code",
   "execution_count": 75,
   "id": "3PNFEWc3NvOo",
   "metadata": {
    "colab": {
     "base_uri": "https://localhost:8080/"
    },
    "id": "3PNFEWc3NvOo",
    "outputId": "60b7dcd8-fdb3-4d93-f607-ab8e0dccb8ce"
   },
   "outputs": [
    {
     "data": {
      "text/plain": [
       "array([[ 59,  31],\n",
       "       [ 12, 528]])"
      ]
     },
     "execution_count": 75,
     "metadata": {},
     "output_type": "execute_result"
    }
   ],
   "source": [
    "confusion_matrix(y_test, pred)\n",
    "# TR = confusion_matrix fonksiyonu ile y_test, pred kullanarak ne kadarını yanlış tahmin ettiğimizi buluyoruz\n",
    "# EN = Using the confusion_matrix function and y_test, pred, we find out how much we guessed wrong.\n",
    "\n",
    "# TR = 4 sayı değeri veriyor bize. Sol üst ve sağ alt doğru tahmin, sağ üst ve sol alt yanlış tahmin.\n",
    "# EN = It gives us 4 number values. Upper left and lower right are correct guesses, upper right and lower left are incorrect guesses."
   ]
  },
  {
   "cell_type": "code",
   "execution_count": 76,
   "id": "MACxtSjUNvMQ",
   "metadata": {
    "colab": {
     "base_uri": "https://localhost:8080/",
     "height": 484
    },
    "id": "MACxtSjUNvMQ",
    "outputId": "bc12f57b-a7da-46ca-db13-43a86a31ebdc"
   },
   "outputs": [
    {
     "data": {
      "image/png": "[encoded data removed]",
      "text/plain": [
       "<Figure size 800x550 with 2 Axes>"
      ]
     },
     "metadata": {},
     "output_type": "display_data"
    }
   ],
   "source": [
    "sns.heatmap(confusion_matrix(y_test, pred),annot=True);\n",
    "# TR = Yukarıdakinin görsel versiyonu.\n",
    "# EN = Visual version of the above."
   ]
  },
  {
   "cell_type": "code",
   "execution_count": 77,
   "id": "d1bICd8ANvJp",
   "metadata": {
    "colab": {
     "base_uri": "https://localhost:8080/"
    },
    "id": "d1bICd8ANvJp",
    "outputId": "f0a944e7-9dc8-4aea-cf15-0fc5cbd71d34"
   },
   "outputs": [
    {
     "name": "stdout",
     "output_type": "stream",
     "text": [
      "              precision    recall  f1-score   support\n",
      "\n",
      "           0       0.83      0.66      0.73        90\n",
      "           1       0.94      0.98      0.96       540\n",
      "\n",
      "    accuracy                           0.93       630\n",
      "   macro avg       0.89      0.82      0.85       630\n",
      "weighted avg       0.93      0.93      0.93       630\n",
      "\n"
     ]
    }
   ],
   "source": [
    "print(classification_report(y_test, pred))\n",
    "# TR = print içinde yazdık yoksa sayıların sıralanması bozuluyor.\n",
    "# EN = We wrote it in print, otherwise the order of the numbers will be disrupted.\n",
    "\n",
    "# TR = classification_report ile y_test, pred kullanarak precision, recall, f1-score ve support ulaştık.\n",
    "# EN = We achieved precision, recall, f1-score and support using classification_report and y_test, pred.\n",
    "\n",
    "# TR = Precision (Kesinlik): Doğru olarak pozitif tahmin edilen örneklerin, toplam pozitif tahmin edilen örnekler içindeki oranını gösterir. Yani, modelin pozitif sınıfı ne kadar doğru tahmin ettiğini ölçer.\n",
    "# EN = Precision (Precision): It shows the ratio of correctly predicted positive samples among the total positive predicted samples. That is, it measures how accurately the model predicts the positive class.\n",
    "\n",
    "# TR = Recall (Duyarlılık): Gerçek pozitif örneklerin, toplam pozitif örnekler içindeki oranını gösterir. Modelin pozitif sınıfı ne kadar iyi bulduğunu ölçer.\n",
    "# EN = Recall (Sensitivity): Shows the ratio of true positive samples in total positive samples. It measures how well the model finds the positive class.\n",
    "\n",
    "# TR = F1-score: Precision ve recall'un harmonik ortalamasıdır. Hem precision hem de recall'u dikkate alarak modelin genel performansını özetler.\n",
    "# EN = F1-score: It is the harmonic mean of precision and recall. It summarizes the overall performance of the model, taking into account both precision and recall.\n",
    "\n",
    "# TR = Support: Her sınıftan kaç örneğin bulunduğunu gösterir. Yani, gerçek etiketlerde her bir sınıfa ait kaç örnek olduğunu ifade eder.\n",
    "# EN = Support: Shows how many examples of each class are available. That is, it expresses how many examples of each class there are in the real labels."
   ]
  },
  {
   "cell_type": "code",
   "execution_count": 78,
   "id": "yFDH03TIEdZX",
   "metadata": {
    "colab": {
     "base_uri": "https://localhost:8080/",
     "height": 484
    },
    "id": "yFDH03TIEdZX",
    "outputId": "d5ed4bb2-c1d4-477e-c7e5-20fa5738de6a"
   },
   "outputs": [
    {
     "data": {
      "image/png": "[encoded data removed]",
      "text/plain": [
       "<Figure size 800x550 with 1 Axes>"
      ]
     },
     "metadata": {},
     "output_type": "display_data"
    }
   ],
   "source": [
    "plt.plot(history.history['accuracy'],label='Accuracy')\n",
    "plt.plot(history.history['val_accuracy'],label='Val_Accuracy')\n",
    "plt.legend();"
   ]
  },
  {
   "cell_type": "raw",
   "id": "7957765d-2f29-41f6-b6ff-a04b3e2cd387",
   "metadata": {
    "id": "7957765d-2f29-41f6-b6ff-a04b3e2cd387"
   },
   "source": []
  },
  {
   "cell_type": "markdown",
   "id": "c4a304eb-b2ab-429d-9cba-1456035c9d64",
   "metadata": {
    "id": "c4a304eb-b2ab-429d-9cba-1456035c9d64"
   },
   "source": [
    "## <font color='orange'> AUTOML"
   ]
  },
  {
   "cell_type": "code",
   "execution_count": 79,
   "id": "T4v9qcVhipbQ",
   "metadata": {
    "colab": {
     "base_uri": "https://localhost:8080/",
     "height": 819
    },
    "id": "T4v9qcVhipbQ",
    "outputId": "a59927db-0352-459e-fe03-8237635f3cb6"
   },
   "outputs": [
    {
     "data": {
      "text/html": [
       "<style type=\"text/css\">\n",
       "#T_7eeb8_row11_col1 {\n",
       "  background-color: lightgreen;\n",
       "}\n",
       "</style>\n",
       "<table id=\"T_7eeb8\" class=\"dataframe\">\n",
       "  <thead>\n",
       "    <tr>\n",
       "      <th class=\"blank level0\" >&nbsp;</th>\n",
       "      <th id=\"T_7eeb8_level0_col0\" class=\"col_heading level0 col0\" >Description</th>\n",
       "      <th id=\"T_7eeb8_level0_col1\" class=\"col_heading level0 col1\" >Value</th>\n",
       "    </tr>\n",
       "  </thead>\n",
       "  <tbody>\n",
       "    <tr>\n",
       "      <th id=\"T_7eeb8_level0_row0\" class=\"row_heading level0 row0\" >0</th>\n",
       "      <td id=\"T_7eeb8_row0_col0\" class=\"data row0 col0\" >Session id</td>\n",
       "      <td id=\"T_7eeb8_row0_col1\" class=\"data row0 col1\" >6952</td>\n",
       "    </tr>\n",
       "    <tr>\n",
       "      <th id=\"T_7eeb8_level0_row1\" class=\"row_heading level0 row1\" >1</th>\n",
       "      <td id=\"T_7eeb8_row1_col0\" class=\"data row1 col0\" >Target</td>\n",
       "      <td id=\"T_7eeb8_row1_col1\" class=\"data row1 col1\" >rating</td>\n",
       "    </tr>\n",
       "    <tr>\n",
       "      <th id=\"T_7eeb8_level0_row2\" class=\"row_heading level0 row2\" >2</th>\n",
       "      <td id=\"T_7eeb8_row2_col0\" class=\"data row2 col0\" >Target type</td>\n",
       "      <td id=\"T_7eeb8_row2_col1\" class=\"data row2 col1\" >Multiclass</td>\n",
       "    </tr>\n",
       "    <tr>\n",
       "      <th id=\"T_7eeb8_level0_row3\" class=\"row_heading level0 row3\" >3</th>\n",
       "      <td id=\"T_7eeb8_row3_col0\" class=\"data row3 col0\" >Target mapping</td>\n",
       "      <td id=\"T_7eeb8_row3_col1\" class=\"data row3 col1\" >1: 0, 2: 1, 3: 2, 4: 3, 5: 4</td>\n",
       "    </tr>\n",
       "    <tr>\n",
       "      <th id=\"T_7eeb8_level0_row4\" class=\"row_heading level0 row4\" >4</th>\n",
       "      <td id=\"T_7eeb8_row4_col0\" class=\"data row4 col0\" >Original data shape</td>\n",
       "      <td id=\"T_7eeb8_row4_col1\" class=\"data row4 col1\" >(3150, 5)</td>\n",
       "    </tr>\n",
       "    <tr>\n",
       "      <th id=\"T_7eeb8_level0_row5\" class=\"row_heading level0 row5\" >5</th>\n",
       "      <td id=\"T_7eeb8_row5_col0\" class=\"data row5 col0\" >Transformed data shape</td>\n",
       "      <td id=\"T_7eeb8_row5_col1\" class=\"data row5 col1\" >(3150, 20)</td>\n",
       "    </tr>\n",
       "    <tr>\n",
       "      <th id=\"T_7eeb8_level0_row6\" class=\"row_heading level0 row6\" >6</th>\n",
       "      <td id=\"T_7eeb8_row6_col0\" class=\"data row6 col0\" >Transformed train set shape</td>\n",
       "      <td id=\"T_7eeb8_row6_col1\" class=\"data row6 col1\" >(2205, 20)</td>\n",
       "    </tr>\n",
       "    <tr>\n",
       "      <th id=\"T_7eeb8_level0_row7\" class=\"row_heading level0 row7\" >7</th>\n",
       "      <td id=\"T_7eeb8_row7_col0\" class=\"data row7 col0\" >Transformed test set shape</td>\n",
       "      <td id=\"T_7eeb8_row7_col1\" class=\"data row7 col1\" >(945, 20)</td>\n",
       "    </tr>\n",
       "    <tr>\n",
       "      <th id=\"T_7eeb8_level0_row8\" class=\"row_heading level0 row8\" >8</th>\n",
       "      <td id=\"T_7eeb8_row8_col0\" class=\"data row8 col0\" >Numeric features</td>\n",
       "      <td id=\"T_7eeb8_row8_col1\" class=\"data row8 col1\" >1</td>\n",
       "    </tr>\n",
       "    <tr>\n",
       "      <th id=\"T_7eeb8_level0_row9\" class=\"row_heading level0 row9\" >9</th>\n",
       "      <td id=\"T_7eeb8_row9_col0\" class=\"data row9 col0\" >Categorical features</td>\n",
       "      <td id=\"T_7eeb8_row9_col1\" class=\"data row9 col1\" >3</td>\n",
       "    </tr>\n",
       "    <tr>\n",
       "      <th id=\"T_7eeb8_level0_row10\" class=\"row_heading level0 row10\" >10</th>\n",
       "      <td id=\"T_7eeb8_row10_col0\" class=\"data row10 col0\" >Rows with missing values</td>\n",
       "      <td id=\"T_7eeb8_row10_col1\" class=\"data row10 col1\" >0.0%</td>\n",
       "    </tr>\n",
       "    <tr>\n",
       "      <th id=\"T_7eeb8_level0_row11\" class=\"row_heading level0 row11\" >11</th>\n",
       "      <td id=\"T_7eeb8_row11_col0\" class=\"data row11 col0\" >Preprocess</td>\n",
       "      <td id=\"T_7eeb8_row11_col1\" class=\"data row11 col1\" >True</td>\n",
       "    </tr>\n",
       "    <tr>\n",
       "      <th id=\"T_7eeb8_level0_row12\" class=\"row_heading level0 row12\" >12</th>\n",
       "      <td id=\"T_7eeb8_row12_col0\" class=\"data row12 col0\" >Imputation type</td>\n",
       "      <td id=\"T_7eeb8_row12_col1\" class=\"data row12 col1\" >simple</td>\n",
       "    </tr>\n",
       "    <tr>\n",
       "      <th id=\"T_7eeb8_level0_row13\" class=\"row_heading level0 row13\" >13</th>\n",
       "      <td id=\"T_7eeb8_row13_col0\" class=\"data row13 col0\" >Numeric imputation</td>\n",
       "      <td id=\"T_7eeb8_row13_col1\" class=\"data row13 col1\" >mean</td>\n",
       "    </tr>\n",
       "    <tr>\n",
       "      <th id=\"T_7eeb8_level0_row14\" class=\"row_heading level0 row14\" >14</th>\n",
       "      <td id=\"T_7eeb8_row14_col0\" class=\"data row14 col0\" >Categorical imputation</td>\n",
       "      <td id=\"T_7eeb8_row14_col1\" class=\"data row14 col1\" >mode</td>\n",
       "    </tr>\n",
       "    <tr>\n",
       "      <th id=\"T_7eeb8_level0_row15\" class=\"row_heading level0 row15\" >15</th>\n",
       "      <td id=\"T_7eeb8_row15_col0\" class=\"data row15 col0\" >Maximum one-hot encoding</td>\n",
       "      <td id=\"T_7eeb8_row15_col1\" class=\"data row15 col1\" >25</td>\n",
       "    </tr>\n",
       "    <tr>\n",
       "      <th id=\"T_7eeb8_level0_row16\" class=\"row_heading level0 row16\" >16</th>\n",
       "      <td id=\"T_7eeb8_row16_col0\" class=\"data row16 col0\" >Encoding method</td>\n",
       "      <td id=\"T_7eeb8_row16_col1\" class=\"data row16 col1\" >None</td>\n",
       "    </tr>\n",
       "    <tr>\n",
       "      <th id=\"T_7eeb8_level0_row17\" class=\"row_heading level0 row17\" >17</th>\n",
       "      <td id=\"T_7eeb8_row17_col0\" class=\"data row17 col0\" >Fold Generator</td>\n",
       "      <td id=\"T_7eeb8_row17_col1\" class=\"data row17 col1\" >StratifiedKFold</td>\n",
       "    </tr>\n",
       "    <tr>\n",
       "      <th id=\"T_7eeb8_level0_row18\" class=\"row_heading level0 row18\" >18</th>\n",
       "      <td id=\"T_7eeb8_row18_col0\" class=\"data row18 col0\" >Fold Number</td>\n",
       "      <td id=\"T_7eeb8_row18_col1\" class=\"data row18 col1\" >10</td>\n",
       "    </tr>\n",
       "    <tr>\n",
       "      <th id=\"T_7eeb8_level0_row19\" class=\"row_heading level0 row19\" >19</th>\n",
       "      <td id=\"T_7eeb8_row19_col0\" class=\"data row19 col0\" >CPU Jobs</td>\n",
       "      <td id=\"T_7eeb8_row19_col1\" class=\"data row19 col1\" >-1</td>\n",
       "    </tr>\n",
       "    <tr>\n",
       "      <th id=\"T_7eeb8_level0_row20\" class=\"row_heading level0 row20\" >20</th>\n",
       "      <td id=\"T_7eeb8_row20_col0\" class=\"data row20 col0\" >Use GPU</td>\n",
       "      <td id=\"T_7eeb8_row20_col1\" class=\"data row20 col1\" >False</td>\n",
       "    </tr>\n",
       "    <tr>\n",
       "      <th id=\"T_7eeb8_level0_row21\" class=\"row_heading level0 row21\" >21</th>\n",
       "      <td id=\"T_7eeb8_row21_col0\" class=\"data row21 col0\" >Log Experiment</td>\n",
       "      <td id=\"T_7eeb8_row21_col1\" class=\"data row21 col1\" >False</td>\n",
       "    </tr>\n",
       "    <tr>\n",
       "      <th id=\"T_7eeb8_level0_row22\" class=\"row_heading level0 row22\" >22</th>\n",
       "      <td id=\"T_7eeb8_row22_col0\" class=\"data row22 col0\" >Experiment Name</td>\n",
       "      <td id=\"T_7eeb8_row22_col1\" class=\"data row22 col1\" >clf-default-name</td>\n",
       "    </tr>\n",
       "    <tr>\n",
       "      <th id=\"T_7eeb8_level0_row23\" class=\"row_heading level0 row23\" >23</th>\n",
       "      <td id=\"T_7eeb8_row23_col0\" class=\"data row23 col0\" >USI</td>\n",
       "      <td id=\"T_7eeb8_row23_col1\" class=\"data row23 col1\" >959f</td>\n",
       "    </tr>\n",
       "  </tbody>\n",
       "</table>\n"
      ],
      "text/plain": [
       "<pandas.io.formats.style.Styler at 0x7825c1e8f3d0>"
      ]
     },
     "metadata": {},
     "output_type": "display_data"
    },
    {
     "data": {
      "text/plain": [
       "<pycaret.classification.oop.ClassificationExperiment at 0x7825c32c74c0>"
      ]
     },
     "execution_count": 79,
     "metadata": {},
     "output_type": "execute_result"
    }
   ],
   "source": [
    "setup(df,target='rating')"
   ]
  },
  {
   "cell_type": "code",
   "execution_count": 80,
   "id": "ajemuNKUSm4g",
   "metadata": {
    "colab": {
     "base_uri": "https://localhost:8080/",
     "height": 488,
     "referenced_widgets": [
      "60a4cef17217438dabb7424e001c0130",
      "783d6c89be90496b9b485260ae550f26",
      "e69b7f3c4f2845fca07420f4252e6de7",
      "e21c8c180731436787b6146b349805bb",
      "1c7765d316b447dc83018493dabdae73",
      "f3525fed8d0345fc9c910f18d5a51e04",
      "89d1f62d17d5416b868555542fb154e4",
      "9d91b8ebf6f44c88906f3a203e72178a",
      "bc117707fb87444bb01bc4b007cde17c",
      "b092620421664e63a34fe70d971ea0a7",
      "25a4b330c81744b79bf94002fe8ee9af"
     ]
    },
    "id": "ajemuNKUSm4g",
    "outputId": "fcba8c94-11d4-4632-b0f4-6650a9a8f02a"
   },
   "outputs": [
    {
     "data": {
      "text/html": [],
      "text/plain": [
       "<IPython.core.display.HTML object>"
      ]
     },
     "metadata": {},
     "output_type": "display_data"
    },
    {
     "data": {
      "text/html": [
       "<style type=\"text/css\">\n",
       "#T_f2a45 th {\n",
       "  text-align: left;\n",
       "}\n",
       "#T_f2a45_row0_col0, #T_f2a45_row0_col2, #T_f2a45_row0_col4, #T_f2a45_row0_col5, #T_f2a45_row0_col6, #T_f2a45_row0_col7, #T_f2a45_row1_col0, #T_f2a45_row1_col1, #T_f2a45_row1_col2, #T_f2a45_row1_col3, #T_f2a45_row1_col4, #T_f2a45_row1_col5, #T_f2a45_row1_col6, #T_f2a45_row1_col7, #T_f2a45_row2_col0, #T_f2a45_row2_col1, #T_f2a45_row2_col2, #T_f2a45_row2_col3, #T_f2a45_row2_col4, #T_f2a45_row2_col5, #T_f2a45_row2_col6, #T_f2a45_row2_col7, #T_f2a45_row3_col0, #T_f2a45_row3_col1, #T_f2a45_row3_col2, #T_f2a45_row3_col3, #T_f2a45_row3_col4, #T_f2a45_row3_col5, #T_f2a45_row3_col6, #T_f2a45_row3_col7, #T_f2a45_row4_col0, #T_f2a45_row4_col1, #T_f2a45_row4_col2, #T_f2a45_row4_col3, #T_f2a45_row4_col4, #T_f2a45_row4_col5, #T_f2a45_row4_col6, #T_f2a45_row4_col7, #T_f2a45_row5_col0, #T_f2a45_row5_col1, #T_f2a45_row5_col2, #T_f2a45_row5_col3, #T_f2a45_row5_col4, #T_f2a45_row5_col6, #T_f2a45_row5_col7, #T_f2a45_row6_col0, #T_f2a45_row6_col1, #T_f2a45_row6_col2, #T_f2a45_row6_col3, #T_f2a45_row6_col4, #T_f2a45_row6_col5, #T_f2a45_row7_col0, #T_f2a45_row7_col1, #T_f2a45_row7_col2, #T_f2a45_row7_col3, #T_f2a45_row7_col4, #T_f2a45_row7_col5, #T_f2a45_row7_col6, #T_f2a45_row7_col7, #T_f2a45_row8_col0, #T_f2a45_row8_col1, #T_f2a45_row8_col2, #T_f2a45_row8_col3, #T_f2a45_row8_col5, #T_f2a45_row8_col6, #T_f2a45_row8_col7, #T_f2a45_row9_col0, #T_f2a45_row9_col1, #T_f2a45_row9_col3, #T_f2a45_row9_col4, #T_f2a45_row9_col5, #T_f2a45_row9_col6, #T_f2a45_row9_col7, #T_f2a45_row10_col0, #T_f2a45_row10_col1, #T_f2a45_row10_col2, #T_f2a45_row10_col3, #T_f2a45_row10_col4, #T_f2a45_row10_col5, #T_f2a45_row10_col6, #T_f2a45_row10_col7, #T_f2a45_row11_col0, #T_f2a45_row11_col1, #T_f2a45_row11_col2, #T_f2a45_row11_col3, #T_f2a45_row11_col4, #T_f2a45_row11_col5, #T_f2a45_row11_col6, #T_f2a45_row11_col7, #T_f2a45_row12_col0, #T_f2a45_row12_col1, #T_f2a45_row12_col2, #T_f2a45_row12_col3, #T_f2a45_row12_col4, #T_f2a45_row12_col5, #T_f2a45_row12_col6, #T_f2a45_row12_col7, #T_f2a45_row13_col0, #T_f2a45_row13_col1, #T_f2a45_row13_col2, #T_f2a45_row13_col3, #T_f2a45_row13_col4, #T_f2a45_row13_col5, #T_f2a45_row13_col6, #T_f2a45_row13_col7 {\n",
       "  text-align: left;\n",
       "}\n",
       "#T_f2a45_row0_col1, #T_f2a45_row0_col3, #T_f2a45_row5_col5, #T_f2a45_row6_col6, #T_f2a45_row6_col7, #T_f2a45_row8_col4, #T_f2a45_row9_col2 {\n",
       "  text-align: left;\n",
       "  background-color: yellow;\n",
       "}\n",
       "#T_f2a45_row0_col8, #T_f2a45_row1_col8, #T_f2a45_row2_col8, #T_f2a45_row3_col8, #T_f2a45_row4_col8, #T_f2a45_row5_col8, #T_f2a45_row6_col8, #T_f2a45_row8_col8, #T_f2a45_row9_col8, #T_f2a45_row10_col8, #T_f2a45_row11_col8, #T_f2a45_row12_col8, #T_f2a45_row13_col8 {\n",
       "  text-align: left;\n",
       "  background-color: lightgrey;\n",
       "}\n",
       "#T_f2a45_row7_col8 {\n",
       "  text-align: left;\n",
       "  background-color: yellow;\n",
       "  background-color: lightgrey;\n",
       "}\n",
       "</style>\n",
       "<table id=\"T_f2a45\" class=\"dataframe\">\n",
       "  <thead>\n",
       "    <tr>\n",
       "      <th class=\"blank level0\" >&nbsp;</th>\n",
       "      <th id=\"T_f2a45_level0_col0\" class=\"col_heading level0 col0\" >Model</th>\n",
       "      <th id=\"T_f2a45_level0_col1\" class=\"col_heading level0 col1\" >Accuracy</th>\n",
       "      <th id=\"T_f2a45_level0_col2\" class=\"col_heading level0 col2\" >AUC</th>\n",
       "      <th id=\"T_f2a45_level0_col3\" class=\"col_heading level0 col3\" >Recall</th>\n",
       "      <th id=\"T_f2a45_level0_col4\" class=\"col_heading level0 col4\" >Prec.</th>\n",
       "      <th id=\"T_f2a45_level0_col5\" class=\"col_heading level0 col5\" >F1</th>\n",
       "      <th id=\"T_f2a45_level0_col6\" class=\"col_heading level0 col6\" >Kappa</th>\n",
       "      <th id=\"T_f2a45_level0_col7\" class=\"col_heading level0 col7\" >MCC</th>\n",
       "      <th id=\"T_f2a45_level0_col8\" class=\"col_heading level0 col8\" >TT (Sec)</th>\n",
       "    </tr>\n",
       "  </thead>\n",
       "  <tbody>\n",
       "    <tr>\n",
       "      <th id=\"T_f2a45_level0_row0\" class=\"row_heading level0 row0\" >lr</th>\n",
       "      <td id=\"T_f2a45_row0_col0\" class=\"data row0 col0\" >Logistic Regression</td>\n",
       "      <td id=\"T_f2a45_row0_col1\" class=\"data row0 col1\" >0.7542</td>\n",
       "      <td id=\"T_f2a45_row0_col2\" class=\"data row0 col2\" >0.0000</td>\n",
       "      <td id=\"T_f2a45_row0_col3\" class=\"data row0 col3\" >0.7542</td>\n",
       "      <td id=\"T_f2a45_row0_col4\" class=\"data row0 col4\" >0.6599</td>\n",
       "      <td id=\"T_f2a45_row0_col5\" class=\"data row0 col5\" >0.6803</td>\n",
       "      <td id=\"T_f2a45_row0_col6\" class=\"data row0 col6\" >0.2972</td>\n",
       "      <td id=\"T_f2a45_row0_col7\" class=\"data row0 col7\" >0.3432</td>\n",
       "      <td id=\"T_f2a45_row0_col8\" class=\"data row0 col8\" >0.5930</td>\n",
       "    </tr>\n",
       "    <tr>\n",
       "      <th id=\"T_f2a45_level0_row1\" class=\"row_heading level0 row1\" >svm</th>\n",
       "      <td id=\"T_f2a45_row1_col0\" class=\"data row1 col0\" >SVM - Linear Kernel</td>\n",
       "      <td id=\"T_f2a45_row1_col1\" class=\"data row1 col1\" >0.7442</td>\n",
       "      <td id=\"T_f2a45_row1_col2\" class=\"data row1 col2\" >0.0000</td>\n",
       "      <td id=\"T_f2a45_row1_col3\" class=\"data row1 col3\" >0.7442</td>\n",
       "      <td id=\"T_f2a45_row1_col4\" class=\"data row1 col4\" >0.6787</td>\n",
       "      <td id=\"T_f2a45_row1_col5\" class=\"data row1 col5\" >0.6933</td>\n",
       "      <td id=\"T_f2a45_row1_col6\" class=\"data row1 col6\" >0.3178</td>\n",
       "      <td id=\"T_f2a45_row1_col7\" class=\"data row1 col7\" >0.3487</td>\n",
       "      <td id=\"T_f2a45_row1_col8\" class=\"data row1 col8\" >0.1110</td>\n",
       "    </tr>\n",
       "    <tr>\n",
       "      <th id=\"T_f2a45_level0_row2\" class=\"row_heading level0 row2\" >ridge</th>\n",
       "      <td id=\"T_f2a45_row2_col0\" class=\"data row2 col0\" >Ridge Classifier</td>\n",
       "      <td id=\"T_f2a45_row2_col1\" class=\"data row2 col1\" >0.7320</td>\n",
       "      <td id=\"T_f2a45_row2_col2\" class=\"data row2 col2\" >0.0000</td>\n",
       "      <td id=\"T_f2a45_row2_col3\" class=\"data row2 col3\" >0.7320</td>\n",
       "      <td id=\"T_f2a45_row2_col4\" class=\"data row2 col4\" >0.5920</td>\n",
       "      <td id=\"T_f2a45_row2_col5\" class=\"data row2 col5\" >0.6406</td>\n",
       "      <td id=\"T_f2a45_row2_col6\" class=\"data row2 col6\" >0.1141</td>\n",
       "      <td id=\"T_f2a45_row2_col7\" class=\"data row2 col7\" >0.1737</td>\n",
       "      <td id=\"T_f2a45_row2_col8\" class=\"data row2 col8\" >0.0880</td>\n",
       "    </tr>\n",
       "    <tr>\n",
       "      <th id=\"T_f2a45_level0_row3\" class=\"row_heading level0 row3\" >dummy</th>\n",
       "      <td id=\"T_f2a45_row3_col0\" class=\"data row3 col0\" >Dummy Classifier</td>\n",
       "      <td id=\"T_f2a45_row3_col1\" class=\"data row3 col1\" >0.7256</td>\n",
       "      <td id=\"T_f2a45_row3_col2\" class=\"data row3 col2\" >0.5000</td>\n",
       "      <td id=\"T_f2a45_row3_col3\" class=\"data row3 col3\" >0.7256</td>\n",
       "      <td id=\"T_f2a45_row3_col4\" class=\"data row3 col4\" >0.5265</td>\n",
       "      <td id=\"T_f2a45_row3_col5\" class=\"data row3 col5\" >0.6103</td>\n",
       "      <td id=\"T_f2a45_row3_col6\" class=\"data row3 col6\" >0.0000</td>\n",
       "      <td id=\"T_f2a45_row3_col7\" class=\"data row3 col7\" >0.0000</td>\n",
       "      <td id=\"T_f2a45_row3_col8\" class=\"data row3 col8\" >0.0830</td>\n",
       "    </tr>\n",
       "    <tr>\n",
       "      <th id=\"T_f2a45_level0_row4\" class=\"row_heading level0 row4\" >lda</th>\n",
       "      <td id=\"T_f2a45_row4_col0\" class=\"data row4 col0\" >Linear Discriminant Analysis</td>\n",
       "      <td id=\"T_f2a45_row4_col1\" class=\"data row4 col1\" >0.7252</td>\n",
       "      <td id=\"T_f2a45_row4_col2\" class=\"data row4 col2\" >0.0000</td>\n",
       "      <td id=\"T_f2a45_row4_col3\" class=\"data row4 col3\" >0.7252</td>\n",
       "      <td id=\"T_f2a45_row4_col4\" class=\"data row4 col4\" >0.5752</td>\n",
       "      <td id=\"T_f2a45_row4_col5\" class=\"data row4 col5\" >0.6328</td>\n",
       "      <td id=\"T_f2a45_row4_col6\" class=\"data row4 col6\" >0.1029</td>\n",
       "      <td id=\"T_f2a45_row4_col7\" class=\"data row4 col7\" >0.1511</td>\n",
       "      <td id=\"T_f2a45_row4_col8\" class=\"data row4 col8\" >0.0840</td>\n",
       "    </tr>\n",
       "    <tr>\n",
       "      <th id=\"T_f2a45_level0_row5\" class=\"row_heading level0 row5\" >gbc</th>\n",
       "      <td id=\"T_f2a45_row5_col0\" class=\"data row5 col0\" >Gradient Boosting Classifier</td>\n",
       "      <td id=\"T_f2a45_row5_col1\" class=\"data row5 col1\" >0.7097</td>\n",
       "      <td id=\"T_f2a45_row5_col2\" class=\"data row5 col2\" >0.0000</td>\n",
       "      <td id=\"T_f2a45_row5_col3\" class=\"data row5 col3\" >0.7097</td>\n",
       "      <td id=\"T_f2a45_row5_col4\" class=\"data row5 col4\" >0.7528</td>\n",
       "      <td id=\"T_f2a45_row5_col5\" class=\"data row5 col5\" >0.7079</td>\n",
       "      <td id=\"T_f2a45_row5_col6\" class=\"data row5 col6\" >0.3658</td>\n",
       "      <td id=\"T_f2a45_row5_col7\" class=\"data row5 col7\" >0.3721</td>\n",
       "      <td id=\"T_f2a45_row5_col8\" class=\"data row5 col8\" >0.7130</td>\n",
       "    </tr>\n",
       "    <tr>\n",
       "      <th id=\"T_f2a45_level0_row6\" class=\"row_heading level0 row6\" >et</th>\n",
       "      <td id=\"T_f2a45_row6_col0\" class=\"data row6 col0\" >Extra Trees Classifier</td>\n",
       "      <td id=\"T_f2a45_row6_col1\" class=\"data row6 col1\" >0.6802</td>\n",
       "      <td id=\"T_f2a45_row6_col2\" class=\"data row6 col2\" >0.8006</td>\n",
       "      <td id=\"T_f2a45_row6_col3\" class=\"data row6 col3\" >0.6802</td>\n",
       "      <td id=\"T_f2a45_row6_col4\" class=\"data row6 col4\" >0.7746</td>\n",
       "      <td id=\"T_f2a45_row6_col5\" class=\"data row6 col5\" >0.6948</td>\n",
       "      <td id=\"T_f2a45_row6_col6\" class=\"data row6 col6\" >0.3715</td>\n",
       "      <td id=\"T_f2a45_row6_col7\" class=\"data row6 col7\" >0.3876</td>\n",
       "      <td id=\"T_f2a45_row6_col8\" class=\"data row6 col8\" >0.2310</td>\n",
       "    </tr>\n",
       "    <tr>\n",
       "      <th id=\"T_f2a45_level0_row7\" class=\"row_heading level0 row7\" >dt</th>\n",
       "      <td id=\"T_f2a45_row7_col0\" class=\"data row7 col0\" >Decision Tree Classifier</td>\n",
       "      <td id=\"T_f2a45_row7_col1\" class=\"data row7 col1\" >0.6525</td>\n",
       "      <td id=\"T_f2a45_row7_col2\" class=\"data row7 col2\" >0.6404</td>\n",
       "      <td id=\"T_f2a45_row7_col3\" class=\"data row7 col3\" >0.6525</td>\n",
       "      <td id=\"T_f2a45_row7_col4\" class=\"data row7 col4\" >0.7387</td>\n",
       "      <td id=\"T_f2a45_row7_col5\" class=\"data row7 col5\" >0.6574</td>\n",
       "      <td id=\"T_f2a45_row7_col6\" class=\"data row7 col6\" >0.2572</td>\n",
       "      <td id=\"T_f2a45_row7_col7\" class=\"data row7 col7\" >0.2720</td>\n",
       "      <td id=\"T_f2a45_row7_col8\" class=\"data row7 col8\" >0.0820</td>\n",
       "    </tr>\n",
       "    <tr>\n",
       "      <th id=\"T_f2a45_level0_row8\" class=\"row_heading level0 row8\" >xgboost</th>\n",
       "      <td id=\"T_f2a45_row8_col0\" class=\"data row8 col0\" >Extreme Gradient Boosting</td>\n",
       "      <td id=\"T_f2a45_row8_col1\" class=\"data row8 col1\" >0.5528</td>\n",
       "      <td id=\"T_f2a45_row8_col2\" class=\"data row8 col2\" >0.7716</td>\n",
       "      <td id=\"T_f2a45_row8_col3\" class=\"data row8 col3\" >0.5528</td>\n",
       "      <td id=\"T_f2a45_row8_col4\" class=\"data row8 col4\" >0.7799</td>\n",
       "      <td id=\"T_f2a45_row8_col5\" class=\"data row8 col5\" >0.5767</td>\n",
       "      <td id=\"T_f2a45_row8_col6\" class=\"data row8 col6\" >0.2639</td>\n",
       "      <td id=\"T_f2a45_row8_col7\" class=\"data row8 col7\" >0.3178</td>\n",
       "      <td id=\"T_f2a45_row8_col8\" class=\"data row8 col8\" >0.3380</td>\n",
       "    </tr>\n",
       "    <tr>\n",
       "      <th id=\"T_f2a45_level0_row9\" class=\"row_heading level0 row9\" >rf</th>\n",
       "      <td id=\"T_f2a45_row9_col0\" class=\"data row9 col0\" >Random Forest Classifier</td>\n",
       "      <td id=\"T_f2a45_row9_col1\" class=\"data row9 col1\" >0.5474</td>\n",
       "      <td id=\"T_f2a45_row9_col2\" class=\"data row9 col2\" >0.8019</td>\n",
       "      <td id=\"T_f2a45_row9_col3\" class=\"data row9 col3\" >0.5474</td>\n",
       "      <td id=\"T_f2a45_row9_col4\" class=\"data row9 col4\" >0.7705</td>\n",
       "      <td id=\"T_f2a45_row9_col5\" class=\"data row9 col5\" >0.5869</td>\n",
       "      <td id=\"T_f2a45_row9_col6\" class=\"data row9 col6\" >0.2637</td>\n",
       "      <td id=\"T_f2a45_row9_col7\" class=\"data row9 col7\" >0.3163</td>\n",
       "      <td id=\"T_f2a45_row9_col8\" class=\"data row9 col8\" >0.2440</td>\n",
       "    </tr>\n",
       "    <tr>\n",
       "      <th id=\"T_f2a45_level0_row10\" class=\"row_heading level0 row10\" >knn</th>\n",
       "      <td id=\"T_f2a45_row10_col0\" class=\"data row10 col0\" >K Neighbors Classifier</td>\n",
       "      <td id=\"T_f2a45_row10_col1\" class=\"data row10 col1\" >0.5320</td>\n",
       "      <td id=\"T_f2a45_row10_col2\" class=\"data row10 col2\" >0.7738</td>\n",
       "      <td id=\"T_f2a45_row10_col3\" class=\"data row10 col3\" >0.5320</td>\n",
       "      <td id=\"T_f2a45_row10_col4\" class=\"data row10 col4\" >0.7694</td>\n",
       "      <td id=\"T_f2a45_row10_col5\" class=\"data row10 col5\" >0.5772</td>\n",
       "      <td id=\"T_f2a45_row10_col6\" class=\"data row10 col6\" >0.2654</td>\n",
       "      <td id=\"T_f2a45_row10_col7\" class=\"data row10 col7\" >0.3296</td>\n",
       "      <td id=\"T_f2a45_row10_col8\" class=\"data row10 col8\" >0.1690</td>\n",
       "    </tr>\n",
       "    <tr>\n",
       "      <th id=\"T_f2a45_level0_row11\" class=\"row_heading level0 row11\" >ada</th>\n",
       "      <td id=\"T_f2a45_row11_col0\" class=\"data row11 col0\" >Ada Boost Classifier</td>\n",
       "      <td id=\"T_f2a45_row11_col1\" class=\"data row11 col1\" >0.3678</td>\n",
       "      <td id=\"T_f2a45_row11_col2\" class=\"data row11 col2\" >0.0000</td>\n",
       "      <td id=\"T_f2a45_row11_col3\" class=\"data row11 col3\" >0.3678</td>\n",
       "      <td id=\"T_f2a45_row11_col4\" class=\"data row11 col4\" >0.6643</td>\n",
       "      <td id=\"T_f2a45_row11_col5\" class=\"data row11 col5\" >0.3627</td>\n",
       "      <td id=\"T_f2a45_row11_col6\" class=\"data row11 col6\" >0.1361</td>\n",
       "      <td id=\"T_f2a45_row11_col7\" class=\"data row11 col7\" >0.2134</td>\n",
       "      <td id=\"T_f2a45_row11_col8\" class=\"data row11 col8\" >0.2210</td>\n",
       "    </tr>\n",
       "    <tr>\n",
       "      <th id=\"T_f2a45_level0_row12\" class=\"row_heading level0 row12\" >nb</th>\n",
       "      <td id=\"T_f2a45_row12_col0\" class=\"data row12 col0\" >Naive Bayes</td>\n",
       "      <td id=\"T_f2a45_row12_col1\" class=\"data row12 col1\" >0.1106</td>\n",
       "      <td id=\"T_f2a45_row12_col2\" class=\"data row12 col2\" >0.7116</td>\n",
       "      <td id=\"T_f2a45_row12_col3\" class=\"data row12 col3\" >0.1106</td>\n",
       "      <td id=\"T_f2a45_row12_col4\" class=\"data row12 col4\" >0.5641</td>\n",
       "      <td id=\"T_f2a45_row12_col5\" class=\"data row12 col5\" >0.0856</td>\n",
       "      <td id=\"T_f2a45_row12_col6\" class=\"data row12 col6\" >0.0463</td>\n",
       "      <td id=\"T_f2a45_row12_col7\" class=\"data row12 col7\" >0.1355</td>\n",
       "      <td id=\"T_f2a45_row12_col8\" class=\"data row12 col8\" >0.1480</td>\n",
       "    </tr>\n",
       "    <tr>\n",
       "      <th id=\"T_f2a45_level0_row13\" class=\"row_heading level0 row13\" >qda</th>\n",
       "      <td id=\"T_f2a45_row13_col0\" class=\"data row13 col0\" >Quadratic Discriminant Analysis</td>\n",
       "      <td id=\"T_f2a45_row13_col1\" class=\"data row13 col1\" >0.0512</td>\n",
       "      <td id=\"T_f2a45_row13_col2\" class=\"data row13 col2\" >0.0000</td>\n",
       "      <td id=\"T_f2a45_row13_col3\" class=\"data row13 col3\" >0.0512</td>\n",
       "      <td id=\"T_f2a45_row13_col4\" class=\"data row13 col4\" >0.0026</td>\n",
       "      <td id=\"T_f2a45_row13_col5\" class=\"data row13 col5\" >0.0050</td>\n",
       "      <td id=\"T_f2a45_row13_col6\" class=\"data row13 col6\" >0.0000</td>\n",
       "      <td id=\"T_f2a45_row13_col7\" class=\"data row13 col7\" >0.0000</td>\n",
       "      <td id=\"T_f2a45_row13_col8\" class=\"data row13 col8\" >0.0830</td>\n",
       "    </tr>\n",
       "  </tbody>\n",
       "</table>\n"
      ],
      "text/plain": [
       "<pandas.io.formats.style.Styler at 0x7825c336a110>"
      ]
     },
     "metadata": {},
     "output_type": "display_data"
    },
    {
     "data": {
      "application/vnd.jupyter.widget-view+json": {
       "model_id": "60a4cef17217438dabb7424e001c0130",
       "version_major": 2,
       "version_minor": 0
      },
      "text/plain": [
       "Processing:   0%|          | 0/65 [00:00<?, ?it/s]"
      ]
     },
     "metadata": {
      "application/vnd.jupyter.widget-view+json": {
       "colab": {
        "custom_widget_manager": {
         "url": "https://ssl.gstatic.com/colaboratory-static/widgets/colab-cdn-widget-manager/2b70e893a8ba7c0f/manager.min.js"
        }
       }
      }
     },
     "output_type": "display_data"
    },
    {
     "data": {
      "text/html": [],
      "text/plain": [
       "<IPython.core.display.HTML object>"
      ]
     },
     "metadata": {},
     "output_type": "display_data"
    }
   ],
   "source": [
    "best_model=compare_models()"
   ]
  },
  {
   "cell_type": "code",
   "execution_count": 81,
   "id": "xbmXrVwOCS1o",
   "metadata": {
    "colab": {
     "base_uri": "https://localhost:8080/",
     "height": 457,
     "referenced_widgets": [
      "1fc26b5a1d994442b4c2427dc2fec4b5",
      "e48d83e70ce149fdb39304b0cccb4ee1",
      "ed6583739ab5473eb7b7f297470315e2",
      "a91da843b93e423ebd47d9484150023f",
      "6820a23f7ad24915a89d25355f7ec79c",
      "9492bd12240d4530bb9abe7e8e2b43de",
      "7d4cf8bee6a040648488cb14b1ebea27",
      "408a212be2714b9aa3d85aabcbd6fb62",
      "b94e283a5e9047c1a2256c8f030b2222",
      "988847cd5d9e48a5aaa8d890cb51a5b6",
      "24cc26b3a4104978a1fc7b75c28be5e0"
     ]
    },
    "id": "xbmXrVwOCS1o",
    "outputId": "310defec-ab10-4286-ba30-728b48b34563"
   },
   "outputs": [
    {
     "data": {
      "text/html": [],
      "text/plain": [
       "<IPython.core.display.HTML object>"
      ]
     },
     "metadata": {},
     "output_type": "display_data"
    },
    {
     "data": {
      "text/html": [
       "<style type=\"text/css\">\n",
       "#T_9c316_row10_col0, #T_9c316_row10_col1, #T_9c316_row10_col2, #T_9c316_row10_col3, #T_9c316_row10_col4, #T_9c316_row10_col5, #T_9c316_row10_col6 {\n",
       "  background: yellow;\n",
       "}\n",
       "</style>\n",
       "<table id=\"T_9c316\" class=\"dataframe\">\n",
       "  <thead>\n",
       "    <tr>\n",
       "      <th class=\"blank level0\" >&nbsp;</th>\n",
       "      <th id=\"T_9c316_level0_col0\" class=\"col_heading level0 col0\" >Accuracy</th>\n",
       "      <th id=\"T_9c316_level0_col1\" class=\"col_heading level0 col1\" >AUC</th>\n",
       "      <th id=\"T_9c316_level0_col2\" class=\"col_heading level0 col2\" >Recall</th>\n",
       "      <th id=\"T_9c316_level0_col3\" class=\"col_heading level0 col3\" >Prec.</th>\n",
       "      <th id=\"T_9c316_level0_col4\" class=\"col_heading level0 col4\" >F1</th>\n",
       "      <th id=\"T_9c316_level0_col5\" class=\"col_heading level0 col5\" >Kappa</th>\n",
       "      <th id=\"T_9c316_level0_col6\" class=\"col_heading level0 col6\" >MCC</th>\n",
       "    </tr>\n",
       "    <tr>\n",
       "      <th class=\"index_name level0\" >Fold</th>\n",
       "      <th class=\"blank col0\" >&nbsp;</th>\n",
       "      <th class=\"blank col1\" >&nbsp;</th>\n",
       "      <th class=\"blank col2\" >&nbsp;</th>\n",
       "      <th class=\"blank col3\" >&nbsp;</th>\n",
       "      <th class=\"blank col4\" >&nbsp;</th>\n",
       "      <th class=\"blank col5\" >&nbsp;</th>\n",
       "      <th class=\"blank col6\" >&nbsp;</th>\n",
       "    </tr>\n",
       "  </thead>\n",
       "  <tbody>\n",
       "    <tr>\n",
       "      <th id=\"T_9c316_level0_row0\" class=\"row_heading level0 row0\" >0</th>\n",
       "      <td id=\"T_9c316_row0_col0\" class=\"data row0 col0\" >0.7511</td>\n",
       "      <td id=\"T_9c316_row0_col1\" class=\"data row0 col1\" >0.0000</td>\n",
       "      <td id=\"T_9c316_row0_col2\" class=\"data row0 col2\" >0.7511</td>\n",
       "      <td id=\"T_9c316_row0_col3\" class=\"data row0 col3\" >0.6327</td>\n",
       "      <td id=\"T_9c316_row0_col4\" class=\"data row0 col4\" >0.6766</td>\n",
       "      <td id=\"T_9c316_row0_col5\" class=\"data row0 col5\" >0.2815</td>\n",
       "      <td id=\"T_9c316_row0_col6\" class=\"data row0 col6\" >0.3312</td>\n",
       "    </tr>\n",
       "    <tr>\n",
       "      <th id=\"T_9c316_level0_row1\" class=\"row_heading level0 row1\" >1</th>\n",
       "      <td id=\"T_9c316_row1_col0\" class=\"data row1 col0\" >0.7602</td>\n",
       "      <td id=\"T_9c316_row1_col1\" class=\"data row1 col1\" >0.0000</td>\n",
       "      <td id=\"T_9c316_row1_col2\" class=\"data row1 col2\" >0.7602</td>\n",
       "      <td id=\"T_9c316_row1_col3\" class=\"data row1 col3\" >0.6523</td>\n",
       "      <td id=\"T_9c316_row1_col4\" class=\"data row1 col4\" >0.6960</td>\n",
       "      <td id=\"T_9c316_row1_col5\" class=\"data row1 col5\" >0.3301</td>\n",
       "      <td id=\"T_9c316_row1_col6\" class=\"data row1 col6\" >0.3718</td>\n",
       "    </tr>\n",
       "    <tr>\n",
       "      <th id=\"T_9c316_level0_row2\" class=\"row_heading level0 row2\" >2</th>\n",
       "      <td id=\"T_9c316_row2_col0\" class=\"data row2 col0\" >0.7511</td>\n",
       "      <td id=\"T_9c316_row2_col1\" class=\"data row2 col1\" >0.0000</td>\n",
       "      <td id=\"T_9c316_row2_col2\" class=\"data row2 col2\" >0.7511</td>\n",
       "      <td id=\"T_9c316_row2_col3\" class=\"data row2 col3\" >0.6425</td>\n",
       "      <td id=\"T_9c316_row2_col4\" class=\"data row2 col4\" >0.6754</td>\n",
       "      <td id=\"T_9c316_row2_col5\" class=\"data row2 col5\" >0.2878</td>\n",
       "      <td id=\"T_9c316_row2_col6\" class=\"data row2 col6\" >0.3354</td>\n",
       "    </tr>\n",
       "    <tr>\n",
       "      <th id=\"T_9c316_level0_row3\" class=\"row_heading level0 row3\" >3</th>\n",
       "      <td id=\"T_9c316_row3_col0\" class=\"data row3 col0\" >0.7376</td>\n",
       "      <td id=\"T_9c316_row3_col1\" class=\"data row3 col1\" >0.0000</td>\n",
       "      <td id=\"T_9c316_row3_col2\" class=\"data row3 col2\" >0.7376</td>\n",
       "      <td id=\"T_9c316_row3_col3\" class=\"data row3 col3\" >0.6320</td>\n",
       "      <td id=\"T_9c316_row3_col4\" class=\"data row3 col4\" >0.6673</td>\n",
       "      <td id=\"T_9c316_row3_col5\" class=\"data row3 col5\" >0.2681</td>\n",
       "      <td id=\"T_9c316_row3_col6\" class=\"data row3 col6\" >0.3034</td>\n",
       "    </tr>\n",
       "    <tr>\n",
       "      <th id=\"T_9c316_level0_row4\" class=\"row_heading level0 row4\" >4</th>\n",
       "      <td id=\"T_9c316_row4_col0\" class=\"data row4 col0\" >0.7647</td>\n",
       "      <td id=\"T_9c316_row4_col1\" class=\"data row4 col1\" >0.0000</td>\n",
       "      <td id=\"T_9c316_row4_col2\" class=\"data row4 col2\" >0.7647</td>\n",
       "      <td id=\"T_9c316_row4_col3\" class=\"data row4 col3\" >0.6979</td>\n",
       "      <td id=\"T_9c316_row4_col4\" class=\"data row4 col4\" >0.6991</td>\n",
       "      <td id=\"T_9c316_row4_col5\" class=\"data row4 col5\" >0.3355</td>\n",
       "      <td id=\"T_9c316_row4_col6\" class=\"data row4 col6\" >0.3814</td>\n",
       "    </tr>\n",
       "    <tr>\n",
       "      <th id=\"T_9c316_level0_row5\" class=\"row_heading level0 row5\" >5</th>\n",
       "      <td id=\"T_9c316_row5_col0\" class=\"data row5 col0\" >0.7545</td>\n",
       "      <td id=\"T_9c316_row5_col1\" class=\"data row5 col1\" >0.0000</td>\n",
       "      <td id=\"T_9c316_row5_col2\" class=\"data row5 col2\" >0.7545</td>\n",
       "      <td id=\"T_9c316_row5_col3\" class=\"data row5 col3\" >0.6495</td>\n",
       "      <td id=\"T_9c316_row5_col4\" class=\"data row5 col4\" >0.6780</td>\n",
       "      <td id=\"T_9c316_row5_col5\" class=\"data row5 col5\" >0.2965</td>\n",
       "      <td id=\"T_9c316_row5_col6\" class=\"data row5 col6\" >0.3399</td>\n",
       "    </tr>\n",
       "    <tr>\n",
       "      <th id=\"T_9c316_level0_row6\" class=\"row_heading level0 row6\" >6</th>\n",
       "      <td id=\"T_9c316_row6_col0\" class=\"data row6 col0\" >0.7591</td>\n",
       "      <td id=\"T_9c316_row6_col1\" class=\"data row6 col1\" >0.0000</td>\n",
       "      <td id=\"T_9c316_row6_col2\" class=\"data row6 col2\" >0.7591</td>\n",
       "      <td id=\"T_9c316_row6_col3\" class=\"data row6 col3\" >0.6633</td>\n",
       "      <td id=\"T_9c316_row6_col4\" class=\"data row6 col4\" >0.6802</td>\n",
       "      <td id=\"T_9c316_row6_col5\" class=\"data row6 col5\" >0.2934</td>\n",
       "      <td id=\"T_9c316_row6_col6\" class=\"data row6 col6\" >0.3494</td>\n",
       "    </tr>\n",
       "    <tr>\n",
       "      <th id=\"T_9c316_level0_row7\" class=\"row_heading level0 row7\" >7</th>\n",
       "      <td id=\"T_9c316_row7_col0\" class=\"data row7 col0\" >0.7545</td>\n",
       "      <td id=\"T_9c316_row7_col1\" class=\"data row7 col1\" >0.0000</td>\n",
       "      <td id=\"T_9c316_row7_col2\" class=\"data row7 col2\" >0.7545</td>\n",
       "      <td id=\"T_9c316_row7_col3\" class=\"data row7 col3\" >0.6330</td>\n",
       "      <td id=\"T_9c316_row7_col4\" class=\"data row7 col4\" >0.6776</td>\n",
       "      <td id=\"T_9c316_row7_col5\" class=\"data row7 col5\" >0.3018</td>\n",
       "      <td id=\"T_9c316_row7_col6\" class=\"data row7 col6\" >0.3422</td>\n",
       "    </tr>\n",
       "    <tr>\n",
       "      <th id=\"T_9c316_level0_row8\" class=\"row_heading level0 row8\" >8</th>\n",
       "      <td id=\"T_9c316_row8_col0\" class=\"data row8 col0\" >0.7500</td>\n",
       "      <td id=\"T_9c316_row8_col1\" class=\"data row8 col1\" >0.0000</td>\n",
       "      <td id=\"T_9c316_row8_col2\" class=\"data row8 col2\" >0.7500</td>\n",
       "      <td id=\"T_9c316_row8_col3\" class=\"data row8 col3\" >0.6399</td>\n",
       "      <td id=\"T_9c316_row8_col4\" class=\"data row8 col4\" >0.6777</td>\n",
       "      <td id=\"T_9c316_row8_col5\" class=\"data row8 col5\" >0.2959</td>\n",
       "      <td id=\"T_9c316_row8_col6\" class=\"data row8 col6\" >0.3330</td>\n",
       "    </tr>\n",
       "    <tr>\n",
       "      <th id=\"T_9c316_level0_row9\" class=\"row_heading level0 row9\" >9</th>\n",
       "      <td id=\"T_9c316_row9_col0\" class=\"data row9 col0\" >0.7591</td>\n",
       "      <td id=\"T_9c316_row9_col1\" class=\"data row9 col1\" >0.0000</td>\n",
       "      <td id=\"T_9c316_row9_col2\" class=\"data row9 col2\" >0.7591</td>\n",
       "      <td id=\"T_9c316_row9_col3\" class=\"data row9 col3\" >0.7560</td>\n",
       "      <td id=\"T_9c316_row9_col4\" class=\"data row9 col4\" >0.6755</td>\n",
       "      <td id=\"T_9c316_row9_col5\" class=\"data row9 col5\" >0.2813</td>\n",
       "      <td id=\"T_9c316_row9_col6\" class=\"data row9 col6\" >0.3447</td>\n",
       "    </tr>\n",
       "    <tr>\n",
       "      <th id=\"T_9c316_level0_row10\" class=\"row_heading level0 row10\" >Mean</th>\n",
       "      <td id=\"T_9c316_row10_col0\" class=\"data row10 col0\" >0.7542</td>\n",
       "      <td id=\"T_9c316_row10_col1\" class=\"data row10 col1\" >0.0000</td>\n",
       "      <td id=\"T_9c316_row10_col2\" class=\"data row10 col2\" >0.7542</td>\n",
       "      <td id=\"T_9c316_row10_col3\" class=\"data row10 col3\" >0.6599</td>\n",
       "      <td id=\"T_9c316_row10_col4\" class=\"data row10 col4\" >0.6803</td>\n",
       "      <td id=\"T_9c316_row10_col5\" class=\"data row10 col5\" >0.2972</td>\n",
       "      <td id=\"T_9c316_row10_col6\" class=\"data row10 col6\" >0.3432</td>\n",
       "    </tr>\n",
       "    <tr>\n",
       "      <th id=\"T_9c316_level0_row11\" class=\"row_heading level0 row11\" >Std</th>\n",
       "      <td id=\"T_9c316_row11_col0\" class=\"data row11 col0\" >0.0071</td>\n",
       "      <td id=\"T_9c316_row11_col1\" class=\"data row11 col1\" >0.0000</td>\n",
       "      <td id=\"T_9c316_row11_col2\" class=\"data row11 col2\" >0.0071</td>\n",
       "      <td id=\"T_9c316_row11_col3\" class=\"data row11 col3\" >0.0372</td>\n",
       "      <td id=\"T_9c316_row11_col4\" class=\"data row11 col4\" >0.0092</td>\n",
       "      <td id=\"T_9c316_row11_col5\" class=\"data row11 col5\" >0.0201</td>\n",
       "      <td id=\"T_9c316_row11_col6\" class=\"data row11 col6\" >0.0205</td>\n",
       "    </tr>\n",
       "  </tbody>\n",
       "</table>\n"
      ],
      "text/plain": [
       "<pandas.io.formats.style.Styler at 0x7825c3461600>"
      ]
     },
     "metadata": {},
     "output_type": "display_data"
    },
    {
     "data": {
      "application/vnd.jupyter.widget-view+json": {
       "model_id": "1fc26b5a1d994442b4c2427dc2fec4b5",
       "version_major": 2,
       "version_minor": 0
      },
      "text/plain": [
       "Processing:   0%|          | 0/4 [00:00<?, ?it/s]"
      ]
     },
     "metadata": {
      "application/vnd.jupyter.widget-view+json": {
       "colab": {
        "custom_widget_manager": {
         "url": "https://ssl.gstatic.com/colaboratory-static/widgets/colab-cdn-widget-manager/2b70e893a8ba7c0f/manager.min.js"
        }
       }
      }
     },
     "output_type": "display_data"
    },
    {
     "data": {
      "text/html": [],
      "text/plain": [
       "<IPython.core.display.HTML object>"
      ]
     },
     "metadata": {},
     "output_type": "display_data"
    }
   ],
   "source": [
    "best_model=create_model('lr')"
   ]
  },
  {
   "cell_type": "code",
   "execution_count": 82,
   "id": "3JAI7IJzCSvg",
   "metadata": {
    "colab": {
     "base_uri": "https://localhost:8080/",
     "height": 485
    },
    "id": "3JAI7IJzCSvg",
    "outputId": "291c1716-9066-4b19-d6bb-ccf6e2c7bcc3"
   },
   "outputs": [
    {
     "data": {
      "text/html": [],
      "text/plain": [
       "<IPython.core.display.HTML object>"
      ]
     },
     "metadata": {},
     "output_type": "display_data"
    },
    {
     "data": {
      "image/png": "[encoded data removed]",
      "text/plain": [
       "<Figure size 800x500 with 1 Axes>"
      ]
     },
     "metadata": {},
     "output_type": "display_data"
    }
   ],
   "source": [
    "plot_model(best_model,plot='feature')"
   ]
  },
  {
   "cell_type": "markdown",
   "id": "8272a536-98b5-415f-a644-e3b76aa6390d",
   "metadata": {
    "id": "8272a536-98b5-415f-a644-e3b76aa6390d"
   },
   "source": [
    "## <font color='#ec11f7'> Transfer Learning"
   ]
  },
  {
   "cell_type": "code",
   "execution_count": 83,
   "id": "ed65460c-c415-4738-ab83-bd075f51e5cb",
   "metadata": {
    "colab": {
     "base_uri": "https://localhost:8080/"
    },
    "id": "ed65460c-c415-4738-ab83-bd075f51e5cb",
    "outputId": "e46cfcb0-973b-46d5-dfc6-7b98bde07f60"
   },
   "outputs": [
    {
     "name": "stdout",
     "output_type": "stream",
     "text": [
      "Epoch 1/100\n",
      "\u001b[1m79/79\u001b[0m \u001b[32m━━━━━━━━━━━━━━━━━━━━\u001b[0m\u001b[37m\u001b[0m \u001b[1m1s\u001b[0m 4ms/step - accuracy: 0.8032 - loss: 0.5953 - val_accuracy: 0.8571 - val_loss: 0.3981\n",
      "Epoch 2/100\n",
      "\u001b[1m79/79\u001b[0m \u001b[32m━━━━━━━━━━━━━━━━━━━━\u001b[0m\u001b[37m\u001b[0m \u001b[1m0s\u001b[0m 2ms/step - accuracy: 0.8638 - loss: 0.3754 - val_accuracy: 0.8571 - val_loss: 0.3435\n",
      "Epoch 3/100\n",
      "\u001b[1m79/79\u001b[0m \u001b[32m━━━━━━━━━━━━━━━━━━━━\u001b[0m\u001b[37m\u001b[0m \u001b[1m0s\u001b[0m 2ms/step - accuracy: 0.8760 - loss: 0.2981 - val_accuracy: 0.8587 - val_loss: 0.2938\n",
      "Epoch 4/100\n",
      "\u001b[1m79/79\u001b[0m \u001b[32m━━━━━━━━━━━━━━━━━━━━\u001b[0m\u001b[37m\u001b[0m \u001b[1m0s\u001b[0m 2ms/step - accuracy: 0.8775 - loss: 0.2489 - val_accuracy: 0.8746 - val_loss: 0.2556\n",
      "Epoch 5/100\n",
      "\u001b[1m79/79\u001b[0m \u001b[32m━━━━━━━━━━━━━━━━━━━━\u001b[0m\u001b[37m\u001b[0m \u001b[1m0s\u001b[0m 4ms/step - accuracy: 0.9297 - loss: 0.1861 - val_accuracy: 0.8857 - val_loss: 0.2308\n",
      "Epoch 6/100\n",
      "\u001b[1m79/79\u001b[0m \u001b[32m━━━━━━━━━━━━━━━━━━━━\u001b[0m\u001b[37m\u001b[0m \u001b[1m1s\u001b[0m 3ms/step - accuracy: 0.9465 - loss: 0.1532 - val_accuracy: 0.8968 - val_loss: 0.2165\n",
      "Epoch 7/100\n",
      "\u001b[1m79/79\u001b[0m \u001b[32m━━━━━━━━━━━━━━━━━━━━\u001b[0m\u001b[37m\u001b[0m \u001b[1m0s\u001b[0m 4ms/step - accuracy: 0.9634 - loss: 0.1230 - val_accuracy: 0.9127 - val_loss: 0.2074\n",
      "Epoch 8/100\n",
      "\u001b[1m79/79\u001b[0m \u001b[32m━━━━━━━━━━━━━━━━━━━━\u001b[0m\u001b[37m\u001b[0m \u001b[1m1s\u001b[0m 4ms/step - accuracy: 0.9621 - loss: 0.1197 - val_accuracy: 0.9206 - val_loss: 0.2010\n",
      "Epoch 9/100\n",
      "\u001b[1m79/79\u001b[0m \u001b[32m━━━━━━━━━━━━━━━━━━━━\u001b[0m\u001b[37m\u001b[0m \u001b[1m0s\u001b[0m 2ms/step - accuracy: 0.9732 - loss: 0.0994 - val_accuracy: 0.9238 - val_loss: 0.1936\n",
      "Epoch 10/100\n",
      "\u001b[1m79/79\u001b[0m \u001b[32m━━━━━━━━━━━━━━━━━━━━\u001b[0m\u001b[37m\u001b[0m \u001b[1m0s\u001b[0m 3ms/step - accuracy: 0.9766 - loss: 0.0888 - val_accuracy: 0.9254 - val_loss: 0.1973\n",
      "Epoch 11/100\n",
      "\u001b[1m79/79\u001b[0m \u001b[32m━━━━━━━━━━━━━━━━━━━━\u001b[0m\u001b[37m\u001b[0m \u001b[1m0s\u001b[0m 2ms/step - accuracy: 0.9737 - loss: 0.0871 - val_accuracy: 0.9286 - val_loss: 0.1919\n",
      "Epoch 12/100\n",
      "\u001b[1m79/79\u001b[0m \u001b[32m━━━━━━━━━━━━━━━━━━━━\u001b[0m\u001b[37m\u001b[0m \u001b[1m0s\u001b[0m 2ms/step - accuracy: 0.9804 - loss: 0.0713 - val_accuracy: 0.9270 - val_loss: 0.1921\n",
      "Epoch 13/100\n",
      "\u001b[1m79/79\u001b[0m \u001b[32m━━━━━━━━━━━━━━━━━━━━\u001b[0m\u001b[37m\u001b[0m \u001b[1m0s\u001b[0m 3ms/step - accuracy: 0.9803 - loss: 0.0640 - val_accuracy: 0.9270 - val_loss: 0.1935\n",
      "Epoch 14/100\n",
      "\u001b[1m79/79\u001b[0m \u001b[32m━━━━━━━━━━━━━━━━━━━━\u001b[0m\u001b[37m\u001b[0m \u001b[1m0s\u001b[0m 2ms/step - accuracy: 0.9858 - loss: 0.0590 - val_accuracy: 0.9286 - val_loss: 0.1966\n",
      "Epoch 15/100\n",
      "\u001b[1m79/79\u001b[0m \u001b[32m━━━━━━━━━━━━━━━━━━━━\u001b[0m\u001b[37m\u001b[0m \u001b[1m0s\u001b[0m 2ms/step - accuracy: 0.9852 - loss: 0.0545 - val_accuracy: 0.9286 - val_loss: 0.1997\n",
      "Epoch 16/100\n",
      "\u001b[1m79/79\u001b[0m \u001b[32m━━━━━━━━━━━━━━━━━━━━\u001b[0m\u001b[37m\u001b[0m \u001b[1m0s\u001b[0m 2ms/step - accuracy: 0.9878 - loss: 0.0472 - val_accuracy: 0.9302 - val_loss: 0.2018\n",
      "\u001b[1m20/20\u001b[0m \u001b[32m━━━━━━━━━━━━━━━━━━━━\u001b[0m\u001b[37m\u001b[0m \u001b[1m0s\u001b[0m 1ms/step - accuracy: 0.9304 - loss: 0.1829 \n",
      "Test Loss: 0.19188879430294037, Test Accuracy: 0.9285714030265808\n",
      "Accuracy Score: 0.9317460317460318\n"
     ]
    }
   ],
   "source": [
    "import pandas as pd\n",
    "from sklearn.model_selection import train_test_split\n",
    "from sklearn.feature_extraction.text import TfidfVectorizer\n",
    "from tensorflow.keras.models import Sequential\n",
    "from tensorflow.keras.layers import Dense, Dropout\n",
    "from tensorflow.keras.callbacks import EarlyStopping\n",
    "\n",
    "df=pd.read_csv(\"https://raw.githubusercontent.com/amankharwal/Website-data/master/amazon_alexa.tsv\", delimiter='\\t')\n",
    "\n",
    "x = df['verified_reviews'].fillna('')  # Fill NaN values with an empty string\n",
    "\n",
    "# Target variable (ratings)\n",
    "y = df['rating'].apply(lambda rating: 1 if rating >= 4 else 0)  # 1: Positive, 0: Negative\n",
    "\n",
    "# Metin verilerini TF-IDF ile dönüştür\n",
    "vectorizer = TfidfVectorizer(max_features=1000)\n",
    "x = vectorizer.fit_transform(x).toarray()\n",
    "\n",
    "x_train, x_test, y_train, y_test = train_test_split(x, y, test_size=0.2, random_state=42)\n",
    "# TR = Veriyi eğitim ve test setlerine böler.\n",
    "# EN = Splits the data into training and test sets.\n",
    "\n",
    "model = Sequential()\n",
    "# TR = Sıralı model oluşturur.\n",
    "# EN = Creates a Sequential model.\n",
    "\n",
    "model.add(Dense(64, input_shape=(x_train.shape[1],), activation='relu'))\n",
    "# TR = Giriş katmanını ekler, 64 nöronlu ve ReLU aktivasyon fonksiyonlu.\n",
    "# EN = Adds the input layer with 64 neurons and ReLU activation function.\n",
    "\n",
    "model.add(Dropout(0.2))\n",
    "\n",
    "model.add(Dense(1, activation='sigmoid'))\n",
    "# TR = Çıkış katmanına 1 nöron ve sigmoid aktivasyon fonksiyonu ekliyoruz.\n",
    "# EN = We add an output layer with 1 neurons and a sigmoid activation function.\n",
    "\n",
    "model.compile(optimizer='adam', loss='binary_crossentropy', metrics=['accuracy'])\n",
    "# TR = Modeli binary_crossentropy kayıp fonksiyonu, Adam optimizasyonu ve doğruluk metriği ile derliyoruz.\n",
    "# EN = We compile the model with binary_crossentropy loss function, Adam optimizer, and accuracy metric.\n",
    "\n",
    "early_stopping = EarlyStopping(monitor='val_loss', patience=5, restore_best_weights=True)\n",
    "# TR = Early stopping callback'i tanımlar, val_loss izlenir, gelişme olmazsa 5 epoch sonra durdurur.\n",
    "# EN = Defines the early stopping callback, monitors val_loss, stops after 5 epochs without improvement.\n",
    "\n",
    "model.fit(x_train, y_train, epochs=100, validation_data=(x_test, y_test), callbacks=[early_stopping])\n",
    "# TR = Modeli eğitir ve early stopping callback'ini kullanır.\n",
    "# EN = Trains the model with early stopping callback.\n",
    "\n",
    "loss, accuracy = model.evaluate(x_test, y_test)\n",
    "# TR = Modelin performansını test verisinde değerlendirir.\n",
    "# EN = Evaluates the model's performance on test data.\n",
    "\n",
    "print(f'Test Loss: {loss}, Test Accuracy: {accuracy}')\n",
    "\n",
    "pred = model.predict(x_test)\n",
    "pred = (pred > 0.5).astype(int).flatten()\n",
    "\n",
    "acc=accuracy_score(y_test, pred)\n",
    "cm=confusion_matrix(y_test, pred)\n",
    "cr=classification_report(y_test, pred)\n",
    "\n",
    "print('Accuracy Score:', acc)\n",
    "print('confusion_matrix:', cm)\n",
    "print('classification_report:', cr)"
   ]
  },
  {
   "cell_type": "code",
   "execution_count": 83,
   "id": "ae5d5f91-7b03-4351-9941-9a9305b0fd2c",
   "metadata": {
    "id": "ae5d5f91-7b03-4351-9941-9a9305b0fd2c"
   },
   "outputs": [],
   "source": []
  }
 ],
 "metadata": {
  "colab": {
   "provenance": []
  },
  "kernelspec": {
   "display_name": "Python 3 (ipykernel)",
   "language": "python",
   "name": "python3"
  },
  "language_info": {
   "codemirror_mode": {
    "name": "ipython",
    "version": 3
   },
   "file_extension": ".py",
   "mimetype": "text/x-python",
   "name": "python",
   "nbconvert_exporter": "python",
   "pygments_lexer": "ipython3",
   "version": "3.12.4"
  },
  "widgets": {
   "application/vnd.jupyter.widget-state+json": {
    "1c7765d316b447dc83018493dabdae73": {
     "model_module": "@jupyter-widgets/base",
     "model_module_version": "1.2.0",
     "model_name": "LayoutModel",
     "state": {
      "_model_module": "@jupyter-widgets/base",
      "_model_module_version": "1.2.0",
      "_model_name": "LayoutModel",
      "_view_count": null,
      "_view_module": "@jupyter-widgets/base",
      "_view_module_version": "1.2.0",
      "_view_name": "LayoutView",
      "align_content": null,
      "align_items": null,
      "align_self": null,
      "border": null,
      "bottom": null,
      "display": null,
      "flex": null,
      "flex_flow": null,
      "grid_area": null,
      "grid_auto_columns": null,
      "grid_auto_flow": null,
      "grid_auto_rows": null,
      "grid_column": null,
      "grid_gap": null,
      "grid_row": null,
      "grid_template_areas": null,
      "grid_template_columns": null,
      "grid_template_rows": null,
      "height": null,
      "justify_content": null,
      "justify_items": null,
      "left": null,
      "margin": null,
      "max_height": null,
      "max_width": null,
      "min_height": null,
      "min_width": null,
      "object_fit": null,
      "object_position": null,
      "order": null,
      "overflow": null,
      "overflow_x": null,
      "overflow_y": null,
      "padding": null,
      "right": null,
      "top": null,
      "visibility": "hidden",
      "width": null
     }
    },
    "1fc26b5a1d994442b4c2427dc2fec4b5": {
     "model_module": "@jupyter-widgets/controls",
     "model_module_version": "1.5.0",
     "model_name": "HBoxModel",
     "state": {
      "_dom_classes": [],
      "_model_module": "@jupyter-widgets/controls",
      "_model_module_version": "1.5.0",
      "_model_name": "HBoxModel",
      "_view_count": null,
      "_view_module": "@jupyter-widgets/controls",
      "_view_module_version": "1.5.0",
      "_view_name": "HBoxView",
      "box_style": "",
      "children": [
       "IPY_MODEL_e48d83e70ce149fdb39304b0cccb4ee1",
       "IPY_MODEL_ed6583739ab5473eb7b7f297470315e2",
       "IPY_MODEL_a91da843b93e423ebd47d9484150023f"
      ],
      "layout": "IPY_MODEL_6820a23f7ad24915a89d25355f7ec79c"
     }
    },
    "24cc26b3a4104978a1fc7b75c28be5e0": {
     "model_module": "@jupyter-widgets/controls",
     "model_module_version": "1.5.0",
     "model_name": "DescriptionStyleModel",
     "state": {
      "_model_module": "@jupyter-widgets/controls",
      "_model_module_version": "1.5.0",
      "_model_name": "DescriptionStyleModel",
      "_view_count": null,
      "_view_module": "@jupyter-widgets/base",
      "_view_module_version": "1.2.0",
      "_view_name": "StyleView",
      "description_width": ""
     }
    },
    "25a4b330c81744b79bf94002fe8ee9af": {
     "model_module": "@jupyter-widgets/controls",
     "model_module_version": "1.5.0",
     "model_name": "DescriptionStyleModel",
     "state": {
      "_model_module": "@jupyter-widgets/controls",
      "_model_module_version": "1.5.0",
      "_model_name": "DescriptionStyleModel",
      "_view_count": null,
      "_view_module": "@jupyter-widgets/base",
      "_view_module_version": "1.2.0",
      "_view_name": "StyleView",
      "description_width": ""
     }
    },
    "408a212be2714b9aa3d85aabcbd6fb62": {
     "model_module": "@jupyter-widgets/base",
     "model_module_version": "1.2.0",
     "model_name": "LayoutModel",
     "state": {
      "_model_module": "@jupyter-widgets/base",
      "_model_module_version": "1.2.0",
      "_model_name": "LayoutModel",
      "_view_count": null,
      "_view_module": "@jupyter-widgets/base",
      "_view_module_version": "1.2.0",
      "_view_name": "LayoutView",
      "align_content": null,
      "align_items": null,
      "align_self": null,
      "border": null,
      "bottom": null,
      "display": null,
      "flex": null,
      "flex_flow": null,
      "grid_area": null,
      "grid_auto_columns": null,
      "grid_auto_flow": null,
      "grid_auto_rows": null,
      "grid_column": null,
      "grid_gap": null,
      "grid_row": null,
      "grid_template_areas": null,
      "grid_template_columns": null,
      "grid_template_rows": null,
      "height": null,
      "justify_content": null,
      "justify_items": null,
      "left": null,
      "margin": null,
      "max_height": null,
      "max_width": null,
      "min_height": null,
      "min_width": null,
      "object_fit": null,
      "object_position": null,
      "order": null,
      "overflow": null,
      "overflow_x": null,
      "overflow_y": null,
      "padding": null,
      "right": null,
      "top": null,
      "visibility": null,
      "width": null
     }
    },
    "60a4cef17217438dabb7424e001c0130": {
     "model_module": "@jupyter-widgets/controls",
     "model_module_version": "1.5.0",
     "model_name": "HBoxModel",
     "state": {
      "_dom_classes": [],
      "_model_module": "@jupyter-widgets/controls",
      "_model_module_version": "1.5.0",
      "_model_name": "HBoxModel",
      "_view_count": null,
      "_view_module": "@jupyter-widgets/controls",
      "_view_module_version": "1.5.0",
      "_view_name": "HBoxView",
      "box_style": "",
      "children": [
       "IPY_MODEL_783d6c89be90496b9b485260ae550f26",
       "IPY_MODEL_e69b7f3c4f2845fca07420f4252e6de7",
       "IPY_MODEL_e21c8c180731436787b6146b349805bb"
      ],
      "layout": "IPY_MODEL_1c7765d316b447dc83018493dabdae73"
     }
    },
    "6820a23f7ad24915a89d25355f7ec79c": {
     "model_module": "@jupyter-widgets/base",
     "model_module_version": "1.2.0",
     "model_name": "LayoutModel",
     "state": {
      "_model_module": "@jupyter-widgets/base",
      "_model_module_version": "1.2.0",
      "_model_name": "LayoutModel",
      "_view_count": null,
      "_view_module": "@jupyter-widgets/base",
      "_view_module_version": "1.2.0",
      "_view_name": "LayoutView",
      "align_content": null,
      "align_items": null,
      "align_self": null,
      "border": null,
      "bottom": null,
      "display": null,
      "flex": null,
      "flex_flow": null,
      "grid_area": null,
      "grid_auto_columns": null,
      "grid_auto_flow": null,
      "grid_auto_rows": null,
      "grid_column": null,
      "grid_gap": null,
      "grid_row": null,
      "grid_template_areas": null,
      "grid_template_columns": null,
      "grid_template_rows": null,
      "height": null,
      "justify_content": null,
      "justify_items": null,
      "left": null,
      "margin": null,
      "max_height": null,
      "max_width": null,
      "min_height": null,
      "min_width": null,
      "object_fit": null,
      "object_position": null,
      "order": null,
      "overflow": null,
      "overflow_x": null,
      "overflow_y": null,
      "padding": null,
      "right": null,
      "top": null,
      "visibility": "hidden",
      "width": null
     }
    },
    "783d6c89be90496b9b485260ae550f26": {
     "model_module": "@jupyter-widgets/controls",
     "model_module_version": "1.5.0",
     "model_name": "HTMLModel",
     "state": {
      "_dom_classes": [],
      "_model_module": "@jupyter-widgets/controls",
      "_model_module_version": "1.5.0",
      "_model_name": "HTMLModel",
      "_view_count": null,
      "_view_module": "@jupyter-widgets/controls",
      "_view_module_version": "1.5.0",
      "_view_name": "HTMLView",
      "description": "",
      "description_tooltip": null,
      "layout": "IPY_MODEL_f3525fed8d0345fc9c910f18d5a51e04",
      "placeholder": "​",
      "style": "IPY_MODEL_89d1f62d17d5416b868555542fb154e4",
      "value": "Processing: 100%"
     }
    },
    "7d4cf8bee6a040648488cb14b1ebea27": {
     "model_module": "@jupyter-widgets/controls",
     "model_module_version": "1.5.0",
     "model_name": "DescriptionStyleModel",
     "state": {
      "_model_module": "@jupyter-widgets/controls",
      "_model_module_version": "1.5.0",
      "_model_name": "DescriptionStyleModel",
      "_view_count": null,
      "_view_module": "@jupyter-widgets/base",
      "_view_module_version": "1.2.0",
      "_view_name": "StyleView",
      "description_width": ""
     }
    },
    "89d1f62d17d5416b868555542fb154e4": {
     "model_module": "@jupyter-widgets/controls",
     "model_module_version": "1.5.0",
     "model_name": "DescriptionStyleModel",
     "state": {
      "_model_module": "@jupyter-widgets/controls",
      "_model_module_version": "1.5.0",
      "_model_name": "DescriptionStyleModel",
      "_view_count": null,
      "_view_module": "@jupyter-widgets/base",
      "_view_module_version": "1.2.0",
      "_view_name": "StyleView",
      "description_width": ""
     }
    },
    "9492bd12240d4530bb9abe7e8e2b43de": {
     "model_module": "@jupyter-widgets/base",
     "model_module_version": "1.2.0",
     "model_name": "LayoutModel",
     "state": {
      "_model_module": "@jupyter-widgets/base",
      "_model_module_version": "1.2.0",
      "_model_name": "LayoutModel",
      "_view_count": null,
      "_view_module": "@jupyter-widgets/base",
      "_view_module_version": "1.2.0",
      "_view_name": "LayoutView",
      "align_content": null,
      "align_items": null,
      "align_self": null,
      "border": null,
      "bottom": null,
      "display": null,
      "flex": null,
      "flex_flow": null,
      "grid_area": null,
      "grid_auto_columns": null,
      "grid_auto_flow": null,
      "grid_auto_rows": null,
      "grid_column": null,
      "grid_gap": null,
      "grid_row": null,
      "grid_template_areas": null,
      "grid_template_columns": null,
      "grid_template_rows": null,
      "height": null,
      "justify_content": null,
      "justify_items": null,
      "left": null,
      "margin": null,
      "max_height": null,
      "max_width": null,
      "min_height": null,
      "min_width": null,
      "object_fit": null,
      "object_position": null,
      "order": null,
      "overflow": null,
      "overflow_x": null,
      "overflow_y": null,
      "padding": null,
      "right": null,
      "top": null,
      "visibility": null,
      "width": null
     }
    },
    "988847cd5d9e48a5aaa8d890cb51a5b6": {
     "model_module": "@jupyter-widgets/base",
     "model_module_version": "1.2.0",
     "model_name": "LayoutModel",
     "state": {
      "_model_module": "@jupyter-widgets/base",
      "_model_module_version": "1.2.0",
      "_model_name": "LayoutModel",
      "_view_count": null,
      "_view_module": "@jupyter-widgets/base",
      "_view_module_version": "1.2.0",
      "_view_name": "LayoutView",
      "align_content": null,
      "align_items": null,
      "align_self": null,
      "border": null,
      "bottom": null,
      "display": null,
      "flex": null,
      "flex_flow": null,
      "grid_area": null,
      "grid_auto_columns": null,
      "grid_auto_flow": null,
      "grid_auto_rows": null,
      "grid_column": null,
      "grid_gap": null,
      "grid_row": null,
      "grid_template_areas": null,
      "grid_template_columns": null,
      "grid_template_rows": null,
      "height": null,
      "justify_content": null,
      "justify_items": null,
      "left": null,
      "margin": null,
      "max_height": null,
      "max_width": null,
      "min_height": null,
      "min_width": null,
      "object_fit": null,
      "object_position": null,
      "order": null,
      "overflow": null,
      "overflow_x": null,
      "overflow_y": null,
      "padding": null,
      "right": null,
      "top": null,
      "visibility": null,
      "width": null
     }
    },
    "9d91b8ebf6f44c88906f3a203e72178a": {
     "model_module": "@jupyter-widgets/base",
     "model_module_version": "1.2.0",
     "model_name": "LayoutModel",
     "state": {
      "_model_module": "@jupyter-widgets/base",
      "_model_module_version": "1.2.0",
      "_model_name": "LayoutModel",
      "_view_count": null,
      "_view_module": "@jupyter-widgets/base",
      "_view_module_version": "1.2.0",
      "_view_name": "LayoutView",
      "align_content": null,
      "align_items": null,
      "align_self": null,
      "border": null,
      "bottom": null,
      "display": null,
      "flex": null,
      "flex_flow": null,
      "grid_area": null,
      "grid_auto_columns": null,
      "grid_auto_flow": null,
      "grid_auto_rows": null,
      "grid_column": null,
      "grid_gap": null,
      "grid_row": null,
      "grid_template_areas": null,
      "grid_template_columns": null,
      "grid_template_rows": null,
      "height": null,
      "justify_content": null,
      "justify_items": null,
      "left": null,
      "margin": null,
      "max_height": null,
      "max_width": null,
      "min_height": null,
      "min_width": null,
      "object_fit": null,
      "object_position": null,
      "order": null,
      "overflow": null,
      "overflow_x": null,
      "overflow_y": null,
      "padding": null,
      "right": null,
      "top": null,
      "visibility": null,
      "width": null
     }
    },
    "a91da843b93e423ebd47d9484150023f": {
     "model_module": "@jupyter-widgets/controls",
     "model_module_version": "1.5.0",
     "model_name": "HTMLModel",
     "state": {
      "_dom_classes": [],
      "_model_module": "@jupyter-widgets/controls",
      "_model_module_version": "1.5.0",
      "_model_name": "HTMLModel",
      "_view_count": null,
      "_view_module": "@jupyter-widgets/controls",
      "_view_module_version": "1.5.0",
      "_view_name": "HTMLView",
      "description": "",
      "description_tooltip": null,
      "layout": "IPY_MODEL_988847cd5d9e48a5aaa8d890cb51a5b6",
      "placeholder": "​",
      "style": "IPY_MODEL_24cc26b3a4104978a1fc7b75c28be5e0",
      "value": " 4/4 [00:02&lt;00:00,  1.60it/s]"
     }
    },
    "b092620421664e63a34fe70d971ea0a7": {
     "model_module": "@jupyter-widgets/base",
     "model_module_version": "1.2.0",
     "model_name": "LayoutModel",
     "state": {
      "_model_module": "@jupyter-widgets/base",
      "_model_module_version": "1.2.0",
      "_model_name": "LayoutModel",
      "_view_count": null,
      "_view_module": "@jupyter-widgets/base",
      "_view_module_version": "1.2.0",
      "_view_name": "LayoutView",
      "align_content": null,
      "align_items": null,
      "align_self": null,
      "border": null,
      "bottom": null,
      "display": null,
      "flex": null,
      "flex_flow": null,
      "grid_area": null,
      "grid_auto_columns": null,
      "grid_auto_flow": null,
      "grid_auto_rows": null,
      "grid_column": null,
      "grid_gap": null,
      "grid_row": null,
      "grid_template_areas": null,
      "grid_template_columns": null,
      "grid_template_rows": null,
      "height": null,
      "justify_content": null,
      "justify_items": null,
      "left": null,
      "margin": null,
      "max_height": null,
      "max_width": null,
      "min_height": null,
      "min_width": null,
      "object_fit": null,
      "object_position": null,
      "order": null,
      "overflow": null,
      "overflow_x": null,
      "overflow_y": null,
      "padding": null,
      "right": null,
      "top": null,
      "visibility": null,
      "width": null
     }
    },
    "b94e283a5e9047c1a2256c8f030b2222": {
     "model_module": "@jupyter-widgets/controls",
     "model_module_version": "1.5.0",
     "model_name": "ProgressStyleModel",
     "state": {
      "_model_module": "@jupyter-widgets/controls",
      "_model_module_version": "1.5.0",
      "_model_name": "ProgressStyleModel",
      "_view_count": null,
      "_view_module": "@jupyter-widgets/base",
      "_view_module_version": "1.2.0",
      "_view_name": "StyleView",
      "bar_color": null,
      "description_width": ""
     }
    },
    "bc117707fb87444bb01bc4b007cde17c": {
     "model_module": "@jupyter-widgets/controls",
     "model_module_version": "1.5.0",
     "model_name": "ProgressStyleModel",
     "state": {
      "_model_module": "@jupyter-widgets/controls",
      "_model_module_version": "1.5.0",
      "_model_name": "ProgressStyleModel",
      "_view_count": null,
      "_view_module": "@jupyter-widgets/base",
      "_view_module_version": "1.2.0",
      "_view_name": "StyleView",
      "bar_color": null,
      "description_width": ""
     }
    },
    "e21c8c180731436787b6146b349805bb": {
     "model_module": "@jupyter-widgets/controls",
     "model_module_version": "1.5.0",
     "model_name": "HTMLModel",
     "state": {
      "_dom_classes": [],
      "_model_module": "@jupyter-widgets/controls",
      "_model_module_version": "1.5.0",
      "_model_name": "HTMLModel",
      "_view_count": null,
      "_view_module": "@jupyter-widgets/controls",
      "_view_module_version": "1.5.0",
      "_view_name": "HTMLView",
      "description": "",
      "description_tooltip": null,
      "layout": "IPY_MODEL_b092620421664e63a34fe70d971ea0a7",
      "placeholder": "​",
      "style": "IPY_MODEL_25a4b330c81744b79bf94002fe8ee9af",
      "value": " 65/65 [00:40&lt;00:00,  2.51it/s]"
     }
    },
    "e48d83e70ce149fdb39304b0cccb4ee1": {
     "model_module": "@jupyter-widgets/controls",
     "model_module_version": "1.5.0",
     "model_name": "HTMLModel",
     "state": {
      "_dom_classes": [],
      "_model_module": "@jupyter-widgets/controls",
      "_model_module_version": "1.5.0",
      "_model_name": "HTMLModel",
      "_view_count": null,
      "_view_module": "@jupyter-widgets/controls",
      "_view_module_version": "1.5.0",
      "_view_name": "HTMLView",
      "description": "",
      "description_tooltip": null,
      "layout": "IPY_MODEL_9492bd12240d4530bb9abe7e8e2b43de",
      "placeholder": "​",
      "style": "IPY_MODEL_7d4cf8bee6a040648488cb14b1ebea27",
      "value": "Processing: 100%"
     }
    },
    "e69b7f3c4f2845fca07420f4252e6de7": {
     "model_module": "@jupyter-widgets/controls",
     "model_module_version": "1.5.0",
     "model_name": "FloatProgressModel",
     "state": {
      "_dom_classes": [],
      "_model_module": "@jupyter-widgets/controls",
      "_model_module_version": "1.5.0",
      "_model_name": "FloatProgressModel",
      "_view_count": null,
      "_view_module": "@jupyter-widgets/controls",
      "_view_module_version": "1.5.0",
      "_view_name": "ProgressView",
      "bar_style": "",
      "description": "",
      "description_tooltip": null,
      "layout": "IPY_MODEL_9d91b8ebf6f44c88906f3a203e72178a",
      "max": 65,
      "min": 0,
      "orientation": "horizontal",
      "style": "IPY_MODEL_bc117707fb87444bb01bc4b007cde17c",
      "value": 65
     }
    },
    "ed6583739ab5473eb7b7f297470315e2": {
     "model_module": "@jupyter-widgets/controls",
     "model_module_version": "1.5.0",
     "model_name": "FloatProgressModel",
     "state": {
      "_dom_classes": [],
      "_model_module": "@jupyter-widgets/controls",
      "_model_module_version": "1.5.0",
      "_model_name": "FloatProgressModel",
      "_view_count": null,
      "_view_module": "@jupyter-widgets/controls",
      "_view_module_version": "1.5.0",
      "_view_name": "ProgressView",
      "bar_style": "",
      "description": "",
      "description_tooltip": null,
      "layout": "IPY_MODEL_408a212be2714b9aa3d85aabcbd6fb62",
      "max": 4,
      "min": 0,
      "orientation": "horizontal",
      "style": "IPY_MODEL_b94e283a5e9047c1a2256c8f030b2222",
      "value": 4
     }
    },
    "f3525fed8d0345fc9c910f18d5a51e04": {
     "model_module": "@jupyter-widgets/base",
     "model_module_version": "1.2.0",
     "model_name": "LayoutModel",
     "state": {
      "_model_module": "@jupyter-widgets/base",
      "_model_module_version": "1.2.0",
      "_model_name": "LayoutModel",
      "_view_count": null,
      "_view_module": "@jupyter-widgets/base",
      "_view_module_version": "1.2.0",
      "_view_name": "LayoutView",
      "align_content": null,
      "align_items": null,
      "align_self": null,
      "border": null,
      "bottom": null,
      "display": null,
      "flex": null,
      "flex_flow": null,
      "grid_area": null,
      "grid_auto_columns": null,
      "grid_auto_flow": null,
      "grid_auto_rows": null,
      "grid_column": null,
      "grid_gap": null,
      "grid_row": null,
      "grid_template_areas": null,
      "grid_template_columns": null,
      "grid_template_rows": null,
      "height": null,
      "justify_content": null,
      "justify_items": null,
      "left": null,
      "margin": null,
      "max_height": null,
      "max_width": null,
      "min_height": null,
      "min_width": null,
      "object_fit": null,
      "object_position": null,
      "order": null,
      "overflow": null,
      "overflow_x": null,
      "overflow_y": null,
      "padding": null,
      "right": null,
      "top": null,
      "visibility": null,
      "width": null
     }
    }
   }
  }
 },
 "nbformat": 4,
 "nbformat_minor": 5
}
